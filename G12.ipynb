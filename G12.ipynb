{
 "cells": [
  {
   "cell_type": "code",
   "execution_count": 100,
   "metadata": {
    "colab": {
     "base_uri": "https://localhost:8080/",
     "height": 72
    },
    "colab_type": "code",
    "executionInfo": {
     "elapsed": 1029,
     "status": "ok",
     "timestamp": 1600277396175,
     "user": {
      "displayName": "Nuttiwut Ektarawong",
      "photoUrl": "",
      "userId": "04508521584322221843"
     },
     "user_tz": -420
    },
    "id": "tDimvE8sgnH3",
    "outputId": "7bb64ffb-3954-42a1-af2b-1038aab886ee"
   },
   "outputs": [
    {
     "name": "stderr",
     "output_type": "stream",
     "text": [
      "<ipython-input-100-8be3b1dc2231>:7: MatplotlibDeprecationWarning: \n",
      "The createFontList function was deprecated in Matplotlib 3.2 and will be removed two minor releases later. Use FontManager.addfont instead.\n",
      "  font_list = fm.createFontList(['Tahoma.ttf'])\n"
     ]
    }
   ],
   "source": [
    "%matplotlib inline\n",
    "import pandas as pd\n",
    "import numpy as np\n",
    "import matplotlib.pyplot as plt\n",
    "\n",
    "import matplotlib.font_manager as fm\n",
    "font_list = fm.createFontList(['Tahoma.ttf'])\n",
    "fm.fontManager.ttflist.extend(font_list)"
   ]
  },
  {
   "cell_type": "code",
   "execution_count": 101,
   "metadata": {
    "colab": {},
    "colab_type": "code",
    "executionInfo": {
     "elapsed": 1011,
     "status": "ok",
     "timestamp": 1600277198748,
     "user": {
      "displayName": "Nuttiwut Ektarawong",
      "photoUrl": "",
      "userId": "04508521584322221843"
     },
     "user_tz": -420
    },
    "id": "FK9j4w4yg1RR"
   },
   "outputs": [],
   "source": [
    "plt.rcParams['font.family'] = 'Tahoma'\n",
    "plt.rcParams['xtick.labelsize'] = 20.0\n",
    "plt.rcParams['ytick.labelsize'] = 20.0\n",
    "#set font"
   ]
  },
  {
   "cell_type": "code",
   "execution_count": 102,
   "metadata": {
    "colab": {
     "base_uri": "https://localhost:8080/",
     "height": 35
    },
    "colab_type": "code",
    "executionInfo": {
     "elapsed": 1064,
     "status": "ok",
     "timestamp": 1600277200657,
     "user": {
      "displayName": "Nuttiwut Ektarawong",
      "photoUrl": "",
      "userId": "04508521584322221843"
     },
     "user_tz": -420
    },
    "id": "_YbULUUHhLPf",
    "outputId": "d4c7c435-e767-4149-8774-d92fb6a4aaa6"
   },
   "outputs": [
    {
     "data": {
      "text/plain": [
       "(51, 19)"
      ]
     },
     "execution_count": 102,
     "metadata": {},
     "output_type": "execute_result"
    }
   ],
   "source": [
    "data = pd.read_csv('G12.csv' ,sep=','  )\n",
    "data.shape"
   ]
  },
  {
   "cell_type": "code",
   "execution_count": 103,
   "metadata": {
    "colab": {
     "base_uri": "https://localhost:8080/",
     "height": 383
    },
    "colab_type": "code",
    "executionInfo": {
     "elapsed": 979,
     "status": "ok",
     "timestamp": 1600277202056,
     "user": {
      "displayName": "Nuttiwut Ektarawong",
      "photoUrl": "",
      "userId": "04508521584322221843"
     },
     "user_tz": -420
    },
    "id": "utmQGJT_iGS8",
    "outputId": "95c61286-4af7-49bd-d743-17c9edcedce5",
    "scrolled": true
   },
   "outputs": [
    {
     "data": {
      "text/html": [
       "<div>\n",
       "<style scoped>\n",
       "    .dataframe tbody tr th:only-of-type {\n",
       "        vertical-align: middle;\n",
       "    }\n",
       "\n",
       "    .dataframe tbody tr th {\n",
       "        vertical-align: top;\n",
       "    }\n",
       "\n",
       "    .dataframe thead th {\n",
       "        text-align: right;\n",
       "    }\n",
       "</style>\n",
       "<table border=\"1\" class=\"dataframe\">\n",
       "  <thead>\n",
       "    <tr style=\"text-align: right;\">\n",
       "      <th></th>\n",
       "      <th>dcode</th>\n",
       "      <th>garbage53</th>\n",
       "      <th>garbageperday53</th>\n",
       "      <th>garbage54</th>\n",
       "      <th>garbageperday54</th>\n",
       "      <th>garbage55</th>\n",
       "      <th>garbageperday55</th>\n",
       "      <th>garbage56</th>\n",
       "      <th>garbageperday56</th>\n",
       "      <th>garbage57</th>\n",
       "      <th>garbageperday57</th>\n",
       "      <th>garbage58</th>\n",
       "      <th>garbageperday58</th>\n",
       "      <th>garbage59</th>\n",
       "      <th>garbageperday59</th>\n",
       "      <th>garbage60</th>\n",
       "      <th>garbageperday60</th>\n",
       "      <th>garbage61</th>\n",
       "      <th>garbageperday61</th>\n",
       "    </tr>\n",
       "  </thead>\n",
       "  <tbody>\n",
       "    <tr>\n",
       "      <th>0</th>\n",
       "      <td>1000</td>\n",
       "      <td>189819.45</td>\n",
       "      <td>520.05</td>\n",
       "      <td>122869.76</td>\n",
       "      <td>336.63</td>\n",
       "      <td>133599.00</td>\n",
       "      <td>365.02</td>\n",
       "      <td>206932.0</td>\n",
       "      <td>566.94</td>\n",
       "      <td>210940.80</td>\n",
       "      <td>577.92</td>\n",
       "      <td>217247.09</td>\n",
       "      <td>2.74</td>\n",
       "      <td>199522.73</td>\n",
       "      <td>545.14</td>\n",
       "      <td>203794.98</td>\n",
       "      <td>558.34</td>\n",
       "      <td>219418.80</td>\n",
       "      <td>601.15</td>\n",
       "    </tr>\n",
       "    <tr>\n",
       "      <th>1</th>\n",
       "      <td>1001</td>\n",
       "      <td>69166.29</td>\n",
       "      <td>189.50</td>\n",
       "      <td>106149.08</td>\n",
       "      <td>290.82</td>\n",
       "      <td>119485.81</td>\n",
       "      <td>326.46</td>\n",
       "      <td>71844.4</td>\n",
       "      <td>196.83</td>\n",
       "      <td>69299.50</td>\n",
       "      <td>189.86</td>\n",
       "      <td>72019.02</td>\n",
       "      <td>197.31</td>\n",
       "      <td>70243.12</td>\n",
       "      <td>200.00</td>\n",
       "      <td>72998.93</td>\n",
       "      <td>0.00</td>\n",
       "      <td>71372.82</td>\n",
       "      <td>195.54</td>\n",
       "    </tr>\n",
       "    <tr>\n",
       "      <th>2</th>\n",
       "      <td>1002</td>\n",
       "      <td>62244.26</td>\n",
       "      <td>170.53</td>\n",
       "      <td>105379.61</td>\n",
       "      <td>288.71</td>\n",
       "      <td>116.37</td>\n",
       "      <td>317.96</td>\n",
       "      <td>64255.4</td>\n",
       "      <td>176.04</td>\n",
       "      <td>62915.62</td>\n",
       "      <td>172.37</td>\n",
       "      <td>63580.71</td>\n",
       "      <td>174.19</td>\n",
       "      <td>63750.08</td>\n",
       "      <td>173.51</td>\n",
       "      <td>63331.79</td>\n",
       "      <td>0.00</td>\n",
       "      <td>62186.37</td>\n",
       "      <td>170.37</td>\n",
       "    </tr>\n",
       "    <tr>\n",
       "      <th>3</th>\n",
       "      <td>1003</td>\n",
       "      <td>32339.16</td>\n",
       "      <td>88.60</td>\n",
       "      <td>95059.04</td>\n",
       "      <td>260.44</td>\n",
       "      <td>97084.32</td>\n",
       "      <td>265.26</td>\n",
       "      <td>40386.7</td>\n",
       "      <td>110.65</td>\n",
       "      <td>58888.59</td>\n",
       "      <td>161.34</td>\n",
       "      <td>43111.42</td>\n",
       "      <td>118.11</td>\n",
       "      <td>43545.74</td>\n",
       "      <td>131.30</td>\n",
       "      <td>47922.93</td>\n",
       "      <td>0.00</td>\n",
       "      <td>50319.74</td>\n",
       "      <td>137.86</td>\n",
       "    </tr>\n",
       "    <tr>\n",
       "      <th>4</th>\n",
       "      <td>1004</td>\n",
       "      <td>54224.38</td>\n",
       "      <td>148.56</td>\n",
       "      <td>94655.76</td>\n",
       "      <td>259.33</td>\n",
       "      <td>100306.22</td>\n",
       "      <td>274.06</td>\n",
       "      <td>60767.8</td>\n",
       "      <td>166.49</td>\n",
       "      <td>94551.77</td>\n",
       "      <td>259.05</td>\n",
       "      <td>61746.75</td>\n",
       "      <td>169.17</td>\n",
       "      <td>58286.80</td>\n",
       "      <td>167.05</td>\n",
       "      <td>60973.16</td>\n",
       "      <td>0.00</td>\n",
       "      <td>56632.20</td>\n",
       "      <td>155.16</td>\n",
       "    </tr>\n",
       "    <tr>\n",
       "      <th>5</th>\n",
       "      <td>1005</td>\n",
       "      <td>85742.96</td>\n",
       "      <td>234.91</td>\n",
       "      <td>87370.03</td>\n",
       "      <td>239.37</td>\n",
       "      <td>98955.18</td>\n",
       "      <td>270.37</td>\n",
       "      <td>93232.5</td>\n",
       "      <td>255.43</td>\n",
       "      <td>119561.54</td>\n",
       "      <td>327.57</td>\n",
       "      <td>99176.79</td>\n",
       "      <td>271.72</td>\n",
       "      <td>102066.16</td>\n",
       "      <td>302.24</td>\n",
       "      <td>110318.20</td>\n",
       "      <td>0.00</td>\n",
       "      <td>112955.13</td>\n",
       "      <td>309.47</td>\n",
       "    </tr>\n",
       "    <tr>\n",
       "      <th>6</th>\n",
       "      <td>1006</td>\n",
       "      <td>101745.01</td>\n",
       "      <td>278.75</td>\n",
       "      <td>87276.00</td>\n",
       "      <td>239.11</td>\n",
       "      <td>92009.14</td>\n",
       "      <td>251.39</td>\n",
       "      <td>120589.0</td>\n",
       "      <td>330.38</td>\n",
       "      <td>102164.88</td>\n",
       "      <td>279.90</td>\n",
       "      <td>113420.03</td>\n",
       "      <td>310.74</td>\n",
       "      <td>106544.60</td>\n",
       "      <td>338.62</td>\n",
       "      <td>123596.09</td>\n",
       "      <td>0.00</td>\n",
       "      <td>124970.88</td>\n",
       "      <td>342.39</td>\n",
       "    </tr>\n",
       "    <tr>\n",
       "      <th>7</th>\n",
       "      <td>1007</td>\n",
       "      <td>75719.25</td>\n",
       "      <td>207.45</td>\n",
       "      <td>86006.01</td>\n",
       "      <td>235.63</td>\n",
       "      <td>94435.68</td>\n",
       "      <td>258.02</td>\n",
       "      <td>104379.0</td>\n",
       "      <td>285.97</td>\n",
       "      <td>30773.10</td>\n",
       "      <td>84.31</td>\n",
       "      <td>104085.17</td>\n",
       "      <td>285.16</td>\n",
       "      <td>30383.52</td>\n",
       "      <td>309.70</td>\n",
       "      <td>113038.70</td>\n",
       "      <td>0.00</td>\n",
       "      <td>111800.66</td>\n",
       "      <td>306.30</td>\n",
       "    </tr>\n",
       "    <tr>\n",
       "      <th>8</th>\n",
       "      <td>1008</td>\n",
       "      <td>32203.77</td>\n",
       "      <td>88.23</td>\n",
       "      <td>82532.46</td>\n",
       "      <td>226.12</td>\n",
       "      <td>99912.63</td>\n",
       "      <td>272.99</td>\n",
       "      <td>32474.1</td>\n",
       "      <td>88.97</td>\n",
       "      <td>56855.12</td>\n",
       "      <td>155.77</td>\n",
       "      <td>31207.79</td>\n",
       "      <td>85.50</td>\n",
       "      <td>117706.24</td>\n",
       "      <td>83.97</td>\n",
       "      <td>30650.17</td>\n",
       "      <td>0.00</td>\n",
       "      <td>29790.81</td>\n",
       "      <td>81.62</td>\n",
       "    </tr>\n",
       "    <tr>\n",
       "      <th>9</th>\n",
       "      <td>1009</td>\n",
       "      <td>48978.52</td>\n",
       "      <td>134.19</td>\n",
       "      <td>78200.31</td>\n",
       "      <td>214.25</td>\n",
       "      <td>87574.21</td>\n",
       "      <td>239.27</td>\n",
       "      <td>56903.1</td>\n",
       "      <td>155.90</td>\n",
       "      <td>43346.67</td>\n",
       "      <td>118.76</td>\n",
       "      <td>54404.30</td>\n",
       "      <td>149.05</td>\n",
       "      <td>53592.83</td>\n",
       "      <td>147.54</td>\n",
       "      <td>53853.74</td>\n",
       "      <td>0.00</td>\n",
       "      <td>53164.78</td>\n",
       "      <td>145.66</td>\n",
       "    </tr>\n",
       "  </tbody>\n",
       "</table>\n",
       "</div>"
      ],
      "text/plain": [
       "   dcode  garbage53  garbageperday53  garbage54  garbageperday54  garbage55  \\\n",
       "0   1000  189819.45           520.05  122869.76           336.63  133599.00   \n",
       "1   1001   69166.29           189.50  106149.08           290.82  119485.81   \n",
       "2   1002   62244.26           170.53  105379.61           288.71     116.37   \n",
       "3   1003   32339.16            88.60   95059.04           260.44   97084.32   \n",
       "4   1004   54224.38           148.56   94655.76           259.33  100306.22   \n",
       "5   1005   85742.96           234.91   87370.03           239.37   98955.18   \n",
       "6   1006  101745.01           278.75   87276.00           239.11   92009.14   \n",
       "7   1007   75719.25           207.45   86006.01           235.63   94435.68   \n",
       "8   1008   32203.77            88.23   82532.46           226.12   99912.63   \n",
       "9   1009   48978.52           134.19   78200.31           214.25   87574.21   \n",
       "\n",
       "   garbageperday55  garbage56  garbageperday56  garbage57  garbageperday57  \\\n",
       "0           365.02   206932.0           566.94  210940.80           577.92   \n",
       "1           326.46    71844.4           196.83   69299.50           189.86   \n",
       "2           317.96    64255.4           176.04   62915.62           172.37   \n",
       "3           265.26    40386.7           110.65   58888.59           161.34   \n",
       "4           274.06    60767.8           166.49   94551.77           259.05   \n",
       "5           270.37    93232.5           255.43  119561.54           327.57   \n",
       "6           251.39   120589.0           330.38  102164.88           279.90   \n",
       "7           258.02   104379.0           285.97   30773.10            84.31   \n",
       "8           272.99    32474.1            88.97   56855.12           155.77   \n",
       "9           239.27    56903.1           155.90   43346.67           118.76   \n",
       "\n",
       "   garbage58  garbageperday58  garbage59  garbageperday59  garbage60  \\\n",
       "0  217247.09             2.74  199522.73           545.14  203794.98   \n",
       "1   72019.02           197.31   70243.12           200.00   72998.93   \n",
       "2   63580.71           174.19   63750.08           173.51   63331.79   \n",
       "3   43111.42           118.11   43545.74           131.30   47922.93   \n",
       "4   61746.75           169.17   58286.80           167.05   60973.16   \n",
       "5   99176.79           271.72  102066.16           302.24  110318.20   \n",
       "6  113420.03           310.74  106544.60           338.62  123596.09   \n",
       "7  104085.17           285.16   30383.52           309.70  113038.70   \n",
       "8   31207.79            85.50  117706.24            83.97   30650.17   \n",
       "9   54404.30           149.05   53592.83           147.54   53853.74   \n",
       "\n",
       "   garbageperday60  garbage61  garbageperday61  \n",
       "0           558.34  219418.80           601.15  \n",
       "1             0.00   71372.82           195.54  \n",
       "2             0.00   62186.37           170.37  \n",
       "3             0.00   50319.74           137.86  \n",
       "4             0.00   56632.20           155.16  \n",
       "5             0.00  112955.13           309.47  \n",
       "6             0.00  124970.88           342.39  \n",
       "7             0.00  111800.66           306.30  \n",
       "8             0.00   29790.81            81.62  \n",
       "9             0.00   53164.78           145.66  "
      ]
     },
     "execution_count": 103,
     "metadata": {},
     "output_type": "execute_result"
    }
   ],
   "source": [
    "data.head(10)"
   ]
  },
  {
   "cell_type": "markdown",
   "metadata": {
    "colab_type": "text",
    "id": "K4_khtaE0Lmh"
   },
   "source": [
    "<h1>Data Cleaning</h3>"
   ]
  },
  {
   "cell_type": "code",
   "execution_count": 104,
   "metadata": {
    "colab": {
     "base_uri": "https://localhost:8080/",
     "height": 490
    },
    "colab_type": "code",
    "executionInfo": {
     "elapsed": 1219,
     "status": "ok",
     "timestamp": 1600277207289,
     "user": {
      "displayName": "Nuttiwut Ektarawong",
      "photoUrl": "",
      "userId": "04508521584322221843"
     },
     "user_tz": -420
    },
    "id": "JYshaSBcRJye",
    "outputId": "752053fd-d7d6-4d65-d73d-3ed16c123357"
   },
   "outputs": [
    {
     "name": "stdout",
     "output_type": "stream",
     "text": [
      "<class 'pandas.core.frame.DataFrame'>\n",
      "RangeIndex: 51 entries, 0 to 50\n",
      "Data columns (total 19 columns):\n",
      " #   Column           Non-Null Count  Dtype  \n",
      "---  ------           --------------  -----  \n",
      " 0   dcode            51 non-null     int64  \n",
      " 1   garbage53        51 non-null     float64\n",
      " 2   garbageperday53  51 non-null     float64\n",
      " 3   garbage54        51 non-null     float64\n",
      " 4   garbageperday54  51 non-null     float64\n",
      " 5   garbage55        51 non-null     float64\n",
      " 6   garbageperday55  51 non-null     float64\n",
      " 7   garbage56        51 non-null     float64\n",
      " 8   garbageperday56  51 non-null     float64\n",
      " 9   garbage57        51 non-null     float64\n",
      " 10  garbageperday57  51 non-null     float64\n",
      " 11  garbage58        51 non-null     float64\n",
      " 12  garbageperday58  51 non-null     float64\n",
      " 13  garbage59        51 non-null     float64\n",
      " 14  garbageperday59  51 non-null     float64\n",
      " 15  garbage60        51 non-null     float64\n",
      " 16  garbageperday60  51 non-null     float64\n",
      " 17  garbage61        51 non-null     float64\n",
      " 18  garbageperday61  51 non-null     float64\n",
      "dtypes: float64(18), int64(1)\n",
      "memory usage: 7.7 KB\n"
     ]
    }
   ],
   "source": [
    "data.info()"
   ]
  },
  {
   "cell_type": "markdown",
   "metadata": {
    "colab_type": "text",
    "id": "zFeMp_7VGFpf"
   },
   "source": []
  },
  {
   "cell_type": "code",
   "execution_count": 105,
   "metadata": {
    "colab": {
     "base_uri": "https://localhost:8080/",
     "height": 381
    },
    "colab_type": "code",
    "executionInfo": {
     "elapsed": 1151,
     "status": "ok",
     "timestamp": 1600277208874,
     "user": {
      "displayName": "Nuttiwut Ektarawong",
      "photoUrl": "",
      "userId": "04508521584322221843"
     },
     "user_tz": -420
    },
    "id": "pBNXmXQciLIw",
    "outputId": "dde5081a-0efe-433c-fb36-f9442f7ce75b"
   },
   "outputs": [
    {
     "data": {
      "text/plain": [
       "dcode              False\n",
       "garbage53          False\n",
       "garbageperday53    False\n",
       "garbage54          False\n",
       "garbageperday54    False\n",
       "garbage55          False\n",
       "garbageperday55    False\n",
       "garbage56          False\n",
       "garbageperday56    False\n",
       "garbage57          False\n",
       "garbageperday57    False\n",
       "garbage58          False\n",
       "garbageperday58    False\n",
       "garbage59          False\n",
       "garbageperday59    False\n",
       "garbage60          False\n",
       "garbageperday60    False\n",
       "garbage61          False\n",
       "garbageperday61    False\n",
       "dtype: bool"
      ]
     },
     "execution_count": 105,
     "metadata": {},
     "output_type": "execute_result"
    }
   ],
   "source": [
    "#checkว่ามีค่าว่างไหม\n",
    "data.isnull().any()"
   ]
  },
  {
   "cell_type": "code",
   "execution_count": 106,
   "metadata": {
    "colab": {
     "base_uri": "https://localhost:8080/",
     "height": 320
    },
    "colab_type": "code",
    "executionInfo": {
     "elapsed": 1221,
     "status": "ok",
     "timestamp": 1600277213878,
     "user": {
      "displayName": "Nuttiwut Ektarawong",
      "photoUrl": "",
      "userId": "04508521584322221843"
     },
     "user_tz": -420
    },
    "id": "iBd1RiZoXOfq",
    "outputId": "72a2442a-516f-445f-b207-92f6f5040638"
   },
   "outputs": [
    {
     "data": {
      "text/html": [
       "<div>\n",
       "<style scoped>\n",
       "    .dataframe tbody tr th:only-of-type {\n",
       "        vertical-align: middle;\n",
       "    }\n",
       "\n",
       "    .dataframe tbody tr th {\n",
       "        vertical-align: top;\n",
       "    }\n",
       "\n",
       "    .dataframe thead th {\n",
       "        text-align: right;\n",
       "    }\n",
       "</style>\n",
       "<table border=\"1\" class=\"dataframe\">\n",
       "  <thead>\n",
       "    <tr style=\"text-align: right;\">\n",
       "      <th></th>\n",
       "      <th>dcode</th>\n",
       "      <th>garbage53</th>\n",
       "      <th>garbageperday53</th>\n",
       "      <th>garbage54</th>\n",
       "      <th>garbageperday54</th>\n",
       "      <th>garbage55</th>\n",
       "      <th>garbageperday55</th>\n",
       "      <th>garbage56</th>\n",
       "      <th>garbageperday56</th>\n",
       "      <th>garbage57</th>\n",
       "      <th>garbageperday57</th>\n",
       "      <th>garbage58</th>\n",
       "      <th>garbageperday58</th>\n",
       "      <th>garbage59</th>\n",
       "      <th>garbageperday59</th>\n",
       "      <th>garbage60</th>\n",
       "      <th>garbageperday60</th>\n",
       "      <th>garbage61</th>\n",
       "      <th>garbageperday61</th>\n",
       "    </tr>\n",
       "  </thead>\n",
       "  <tbody>\n",
       "    <tr>\n",
       "      <th>count</th>\n",
       "      <td>51.000000</td>\n",
       "      <td>51.000000</td>\n",
       "      <td>51.000000</td>\n",
       "      <td>51.000000</td>\n",
       "      <td>51.000000</td>\n",
       "      <td>51.000000</td>\n",
       "      <td>51.000000</td>\n",
       "      <td>51.000000</td>\n",
       "      <td>51.000000</td>\n",
       "      <td>51.000000</td>\n",
       "      <td>51.000000</td>\n",
       "      <td>51.000000</td>\n",
       "      <td>51.000000</td>\n",
       "      <td>51.000000</td>\n",
       "      <td>51.000000</td>\n",
       "      <td>51.000000</td>\n",
       "      <td>51.000000</td>\n",
       "      <td>51.000000</td>\n",
       "      <td>51.000000</td>\n",
       "    </tr>\n",
       "    <tr>\n",
       "      <th>mean</th>\n",
       "      <td>1025.000000</td>\n",
       "      <td>62761.218627</td>\n",
       "      <td>171.948431</td>\n",
       "      <td>66108.812549</td>\n",
       "      <td>181.119020</td>\n",
       "      <td>67689.424902</td>\n",
       "      <td>191.171961</td>\n",
       "      <td>71150.090196</td>\n",
       "      <td>194.932157</td>\n",
       "      <td>71098.573137</td>\n",
       "      <td>194.791176</td>\n",
       "      <td>72632.678824</td>\n",
       "      <td>187.375882</td>\n",
       "      <td>72699.212745</td>\n",
       "      <td>207.312549</td>\n",
       "      <td>75763.384118</td>\n",
       "      <td>10.947843</td>\n",
       "      <td>76711.534118</td>\n",
       "      <td>210.168824</td>\n",
       "    </tr>\n",
       "    <tr>\n",
       "      <th>std</th>\n",
       "      <td>14.866069</td>\n",
       "      <td>27046.592499</td>\n",
       "      <td>74.099717</td>\n",
       "      <td>32813.365980</td>\n",
       "      <td>89.899822</td>\n",
       "      <td>32094.739023</td>\n",
       "      <td>85.568913</td>\n",
       "      <td>31305.533751</td>\n",
       "      <td>85.768993</td>\n",
       "      <td>31587.300794</td>\n",
       "      <td>86.540061</td>\n",
       "      <td>32051.188825</td>\n",
       "      <td>72.138578</td>\n",
       "      <td>31095.751084</td>\n",
       "      <td>88.275868</td>\n",
       "      <td>32594.400163</td>\n",
       "      <td>78.183238</td>\n",
       "      <td>34167.818035</td>\n",
       "      <td>93.611040</td>\n",
       "    </tr>\n",
       "    <tr>\n",
       "      <th>min</th>\n",
       "      <td>1000.000000</td>\n",
       "      <td>21238.740000</td>\n",
       "      <td>58.190000</td>\n",
       "      <td>21425.180000</td>\n",
       "      <td>58.700000</td>\n",
       "      <td>116.370000</td>\n",
       "      <td>60.000000</td>\n",
       "      <td>21322.200000</td>\n",
       "      <td>58.420000</td>\n",
       "      <td>20630.960000</td>\n",
       "      <td>56.520000</td>\n",
       "      <td>21118.320000</td>\n",
       "      <td>2.740000</td>\n",
       "      <td>20401.970000</td>\n",
       "      <td>56.480000</td>\n",
       "      <td>20614.700000</td>\n",
       "      <td>0.000000</td>\n",
       "      <td>19879.550000</td>\n",
       "      <td>54.460000</td>\n",
       "    </tr>\n",
       "    <tr>\n",
       "      <th>25%</th>\n",
       "      <td>1012.500000</td>\n",
       "      <td>47650.175000</td>\n",
       "      <td>130.550000</td>\n",
       "      <td>48319.550000</td>\n",
       "      <td>132.380000</td>\n",
       "      <td>51525.085000</td>\n",
       "      <td>148.055000</td>\n",
       "      <td>53959.400000</td>\n",
       "      <td>147.835000</td>\n",
       "      <td>54279.440000</td>\n",
       "      <td>148.710000</td>\n",
       "      <td>54937.520000</td>\n",
       "      <td>143.415000</td>\n",
       "      <td>54326.850000</td>\n",
       "      <td>151.860000</td>\n",
       "      <td>55429.595000</td>\n",
       "      <td>0.000000</td>\n",
       "      <td>55927.600000</td>\n",
       "      <td>153.230000</td>\n",
       "    </tr>\n",
       "    <tr>\n",
       "      <th>50%</th>\n",
       "      <td>1025.000000</td>\n",
       "      <td>58392.590000</td>\n",
       "      <td>159.980000</td>\n",
       "      <td>59626.210000</td>\n",
       "      <td>163.360000</td>\n",
       "      <td>62931.450000</td>\n",
       "      <td>173.310000</td>\n",
       "      <td>64255.400000</td>\n",
       "      <td>176.040000</td>\n",
       "      <td>64219.380000</td>\n",
       "      <td>175.940000</td>\n",
       "      <td>67058.970000</td>\n",
       "      <td>181.050000</td>\n",
       "      <td>68937.140000</td>\n",
       "      <td>190.230000</td>\n",
       "      <td>69434.960000</td>\n",
       "      <td>0.000000</td>\n",
       "      <td>69576.220000</td>\n",
       "      <td>190.620000</td>\n",
       "    </tr>\n",
       "    <tr>\n",
       "      <th>75%</th>\n",
       "      <td>1037.500000</td>\n",
       "      <td>69266.780000</td>\n",
       "      <td>189.775000</td>\n",
       "      <td>73344.165000</td>\n",
       "      <td>200.940000</td>\n",
       "      <td>77252.905000</td>\n",
       "      <td>218.000000</td>\n",
       "      <td>83434.550000</td>\n",
       "      <td>228.590000</td>\n",
       "      <td>84497.320000</td>\n",
       "      <td>231.500000</td>\n",
       "      <td>83133.685000</td>\n",
       "      <td>215.435000</td>\n",
       "      <td>83821.360000</td>\n",
       "      <td>234.700000</td>\n",
       "      <td>85665.445000</td>\n",
       "      <td>0.000000</td>\n",
       "      <td>86475.710000</td>\n",
       "      <td>236.920000</td>\n",
       "    </tr>\n",
       "    <tr>\n",
       "      <th>max</th>\n",
       "      <td>1050.000000</td>\n",
       "      <td>189819.450000</td>\n",
       "      <td>520.050000</td>\n",
       "      <td>243032.060000</td>\n",
       "      <td>665.840000</td>\n",
       "      <td>216296.810000</td>\n",
       "      <td>590.970000</td>\n",
       "      <td>206932.000000</td>\n",
       "      <td>566.940000</td>\n",
       "      <td>210940.800000</td>\n",
       "      <td>577.920000</td>\n",
       "      <td>217247.090000</td>\n",
       "      <td>378.530000</td>\n",
       "      <td>199522.730000</td>\n",
       "      <td>545.140000</td>\n",
       "      <td>203794.980000</td>\n",
       "      <td>558.340000</td>\n",
       "      <td>219418.800000</td>\n",
       "      <td>601.150000</td>\n",
       "    </tr>\n",
       "  </tbody>\n",
       "</table>\n",
       "</div>"
      ],
      "text/plain": [
       "             dcode      garbage53  garbageperday53      garbage54  \\\n",
       "count    51.000000      51.000000        51.000000      51.000000   \n",
       "mean   1025.000000   62761.218627       171.948431   66108.812549   \n",
       "std      14.866069   27046.592499        74.099717   32813.365980   \n",
       "min    1000.000000   21238.740000        58.190000   21425.180000   \n",
       "25%    1012.500000   47650.175000       130.550000   48319.550000   \n",
       "50%    1025.000000   58392.590000       159.980000   59626.210000   \n",
       "75%    1037.500000   69266.780000       189.775000   73344.165000   \n",
       "max    1050.000000  189819.450000       520.050000  243032.060000   \n",
       "\n",
       "       garbageperday54      garbage55  garbageperday55      garbage56  \\\n",
       "count        51.000000      51.000000        51.000000      51.000000   \n",
       "mean        181.119020   67689.424902       191.171961   71150.090196   \n",
       "std          89.899822   32094.739023        85.568913   31305.533751   \n",
       "min          58.700000     116.370000        60.000000   21322.200000   \n",
       "25%         132.380000   51525.085000       148.055000   53959.400000   \n",
       "50%         163.360000   62931.450000       173.310000   64255.400000   \n",
       "75%         200.940000   77252.905000       218.000000   83434.550000   \n",
       "max         665.840000  216296.810000       590.970000  206932.000000   \n",
       "\n",
       "       garbageperday56      garbage57  garbageperday57      garbage58  \\\n",
       "count        51.000000      51.000000        51.000000      51.000000   \n",
       "mean        194.932157   71098.573137       194.791176   72632.678824   \n",
       "std          85.768993   31587.300794        86.540061   32051.188825   \n",
       "min          58.420000   20630.960000        56.520000   21118.320000   \n",
       "25%         147.835000   54279.440000       148.710000   54937.520000   \n",
       "50%         176.040000   64219.380000       175.940000   67058.970000   \n",
       "75%         228.590000   84497.320000       231.500000   83133.685000   \n",
       "max         566.940000  210940.800000       577.920000  217247.090000   \n",
       "\n",
       "       garbageperday58      garbage59  garbageperday59      garbage60  \\\n",
       "count        51.000000      51.000000        51.000000      51.000000   \n",
       "mean        187.375882   72699.212745       207.312549   75763.384118   \n",
       "std          72.138578   31095.751084        88.275868   32594.400163   \n",
       "min           2.740000   20401.970000        56.480000   20614.700000   \n",
       "25%         143.415000   54326.850000       151.860000   55429.595000   \n",
       "50%         181.050000   68937.140000       190.230000   69434.960000   \n",
       "75%         215.435000   83821.360000       234.700000   85665.445000   \n",
       "max         378.530000  199522.730000       545.140000  203794.980000   \n",
       "\n",
       "       garbageperday60      garbage61  garbageperday61  \n",
       "count        51.000000      51.000000        51.000000  \n",
       "mean         10.947843   76711.534118       210.168824  \n",
       "std          78.183238   34167.818035        93.611040  \n",
       "min           0.000000   19879.550000        54.460000  \n",
       "25%           0.000000   55927.600000       153.230000  \n",
       "50%           0.000000   69576.220000       190.620000  \n",
       "75%           0.000000   86475.710000       236.920000  \n",
       "max         558.340000  219418.800000       601.150000  "
      ]
     },
     "execution_count": 106,
     "metadata": {},
     "output_type": "execute_result"
    }
   ],
   "source": [
    "data.describe()"
   ]
  },
  {
   "cell_type": "code",
   "execution_count": 107,
   "metadata": {
    "colab": {
     "base_uri": "https://localhost:8080/",
     "height": 363
    },
    "colab_type": "code",
    "executionInfo": {
     "elapsed": 721,
     "status": "ok",
     "timestamp": 1600277213879,
     "user": {
      "displayName": "Nuttiwut Ektarawong",
      "photoUrl": "",
      "userId": "04508521584322221843"
     },
     "user_tz": -420
    },
    "id": "QURXukXSq6A1",
    "outputId": "150faf50-a9ee-4a89-d8ef-d6d103457e16"
   },
   "outputs": [
    {
     "data": {
      "text/html": [
       "<div>\n",
       "<style scoped>\n",
       "    .dataframe tbody tr th:only-of-type {\n",
       "        vertical-align: middle;\n",
       "    }\n",
       "\n",
       "    .dataframe tbody tr th {\n",
       "        vertical-align: top;\n",
       "    }\n",
       "\n",
       "    .dataframe thead th {\n",
       "        text-align: right;\n",
       "    }\n",
       "</style>\n",
       "<table border=\"1\" class=\"dataframe\">\n",
       "  <thead>\n",
       "    <tr style=\"text-align: right;\">\n",
       "      <th></th>\n",
       "      <th>garbage60</th>\n",
       "      <th>garbageperday60</th>\n",
       "    </tr>\n",
       "  </thead>\n",
       "  <tbody>\n",
       "    <tr>\n",
       "      <th>0</th>\n",
       "      <td>203794.98</td>\n",
       "      <td>558.34</td>\n",
       "    </tr>\n",
       "    <tr>\n",
       "      <th>1</th>\n",
       "      <td>72998.93</td>\n",
       "      <td>0.00</td>\n",
       "    </tr>\n",
       "    <tr>\n",
       "      <th>2</th>\n",
       "      <td>63331.79</td>\n",
       "      <td>0.00</td>\n",
       "    </tr>\n",
       "    <tr>\n",
       "      <th>3</th>\n",
       "      <td>47922.93</td>\n",
       "      <td>0.00</td>\n",
       "    </tr>\n",
       "    <tr>\n",
       "      <th>4</th>\n",
       "      <td>60973.16</td>\n",
       "      <td>0.00</td>\n",
       "    </tr>\n",
       "    <tr>\n",
       "      <th>5</th>\n",
       "      <td>110318.20</td>\n",
       "      <td>0.00</td>\n",
       "    </tr>\n",
       "    <tr>\n",
       "      <th>6</th>\n",
       "      <td>123596.09</td>\n",
       "      <td>0.00</td>\n",
       "    </tr>\n",
       "    <tr>\n",
       "      <th>7</th>\n",
       "      <td>113038.70</td>\n",
       "      <td>0.00</td>\n",
       "    </tr>\n",
       "    <tr>\n",
       "      <th>8</th>\n",
       "      <td>30650.17</td>\n",
       "      <td>0.00</td>\n",
       "    </tr>\n",
       "    <tr>\n",
       "      <th>9</th>\n",
       "      <td>53853.74</td>\n",
       "      <td>0.00</td>\n",
       "    </tr>\n",
       "  </tbody>\n",
       "</table>\n",
       "</div>"
      ],
      "text/plain": [
       "   garbage60  garbageperday60\n",
       "0  203794.98           558.34\n",
       "1   72998.93             0.00\n",
       "2   63331.79             0.00\n",
       "3   47922.93             0.00\n",
       "4   60973.16             0.00\n",
       "5  110318.20             0.00\n",
       "6  123596.09             0.00\n",
       "7  113038.70             0.00\n",
       "8   30650.17             0.00\n",
       "9   53853.74             0.00"
      ]
     },
     "execution_count": 107,
     "metadata": {},
     "output_type": "execute_result"
    }
   ],
   "source": [
    "#select specific column  **.loc[row:column]**\n",
    "dataLoc = data.loc[:,['garbage60','garbageperday60']]\n",
    "dataLoc.head(10)"
   ]
  },
  {
   "cell_type": "code",
   "execution_count": 108,
   "metadata": {
    "colab": {
     "base_uri": "https://localhost:8080/",
     "height": 383
    },
    "colab_type": "code",
    "executionInfo": {
     "elapsed": 846,
     "status": "ok",
     "timestamp": 1600277214919,
     "user": {
      "displayName": "Nuttiwut Ektarawong",
      "photoUrl": "",
      "userId": "04508521584322221843"
     },
     "user_tz": -420
    },
    "id": "itYRvYe2xW-E",
    "outputId": "eecb6901-aa57-4552-a656-3d61d8aaec0c"
   },
   "outputs": [
    {
     "data": {
      "text/html": [
       "<div>\n",
       "<style scoped>\n",
       "    .dataframe tbody tr th:only-of-type {\n",
       "        vertical-align: middle;\n",
       "    }\n",
       "\n",
       "    .dataframe tbody tr th {\n",
       "        vertical-align: top;\n",
       "    }\n",
       "\n",
       "    .dataframe thead th {\n",
       "        text-align: right;\n",
       "    }\n",
       "</style>\n",
       "<table border=\"1\" class=\"dataframe\">\n",
       "  <thead>\n",
       "    <tr style=\"text-align: right;\">\n",
       "      <th></th>\n",
       "      <th>dcode</th>\n",
       "      <th>garbage53</th>\n",
       "      <th>garbageperday53</th>\n",
       "      <th>garbage54</th>\n",
       "      <th>garbageperday54</th>\n",
       "      <th>garbage55</th>\n",
       "      <th>garbageperday55</th>\n",
       "      <th>garbage56</th>\n",
       "      <th>garbageperday56</th>\n",
       "      <th>garbage57</th>\n",
       "      <th>garbageperday57</th>\n",
       "      <th>garbage58</th>\n",
       "      <th>garbageperday58</th>\n",
       "      <th>garbage59</th>\n",
       "      <th>garbageperday59</th>\n",
       "      <th>garbage60</th>\n",
       "      <th>garbageperday60</th>\n",
       "      <th>garbage61</th>\n",
       "      <th>garbageperday61</th>\n",
       "    </tr>\n",
       "  </thead>\n",
       "  <tbody>\n",
       "    <tr>\n",
       "      <th>0</th>\n",
       "      <td>1000</td>\n",
       "      <td>189819.45</td>\n",
       "      <td>520.05</td>\n",
       "      <td>122869.76</td>\n",
       "      <td>336.63</td>\n",
       "      <td>133599.00</td>\n",
       "      <td>365.02</td>\n",
       "      <td>206932.0</td>\n",
       "      <td>566.94</td>\n",
       "      <td>210940.80</td>\n",
       "      <td>577.92</td>\n",
       "      <td>217247.09</td>\n",
       "      <td>2.74</td>\n",
       "      <td>199522.73</td>\n",
       "      <td>545.14</td>\n",
       "      <td>203794.98</td>\n",
       "      <td>558.34</td>\n",
       "      <td>219418.80</td>\n",
       "      <td>601.15</td>\n",
       "    </tr>\n",
       "    <tr>\n",
       "      <th>1</th>\n",
       "      <td>1001</td>\n",
       "      <td>69166.29</td>\n",
       "      <td>189.50</td>\n",
       "      <td>106149.08</td>\n",
       "      <td>290.82</td>\n",
       "      <td>119485.81</td>\n",
       "      <td>326.46</td>\n",
       "      <td>71844.4</td>\n",
       "      <td>196.83</td>\n",
       "      <td>69299.50</td>\n",
       "      <td>189.86</td>\n",
       "      <td>72019.02</td>\n",
       "      <td>197.31</td>\n",
       "      <td>70243.12</td>\n",
       "      <td>200.00</td>\n",
       "      <td>72998.93</td>\n",
       "      <td>200.00</td>\n",
       "      <td>71372.82</td>\n",
       "      <td>195.54</td>\n",
       "    </tr>\n",
       "    <tr>\n",
       "      <th>2</th>\n",
       "      <td>1002</td>\n",
       "      <td>62244.26</td>\n",
       "      <td>170.53</td>\n",
       "      <td>105379.61</td>\n",
       "      <td>288.71</td>\n",
       "      <td>116.37</td>\n",
       "      <td>317.96</td>\n",
       "      <td>64255.4</td>\n",
       "      <td>176.04</td>\n",
       "      <td>62915.62</td>\n",
       "      <td>172.37</td>\n",
       "      <td>63580.71</td>\n",
       "      <td>174.19</td>\n",
       "      <td>63750.08</td>\n",
       "      <td>173.51</td>\n",
       "      <td>63331.79</td>\n",
       "      <td>173.51</td>\n",
       "      <td>62186.37</td>\n",
       "      <td>170.37</td>\n",
       "    </tr>\n",
       "    <tr>\n",
       "      <th>3</th>\n",
       "      <td>1003</td>\n",
       "      <td>32339.16</td>\n",
       "      <td>88.60</td>\n",
       "      <td>95059.04</td>\n",
       "      <td>260.44</td>\n",
       "      <td>97084.32</td>\n",
       "      <td>265.26</td>\n",
       "      <td>40386.7</td>\n",
       "      <td>110.65</td>\n",
       "      <td>58888.59</td>\n",
       "      <td>161.34</td>\n",
       "      <td>43111.42</td>\n",
       "      <td>118.11</td>\n",
       "      <td>43545.74</td>\n",
       "      <td>131.30</td>\n",
       "      <td>47922.93</td>\n",
       "      <td>131.30</td>\n",
       "      <td>50319.74</td>\n",
       "      <td>137.86</td>\n",
       "    </tr>\n",
       "    <tr>\n",
       "      <th>4</th>\n",
       "      <td>1004</td>\n",
       "      <td>54224.38</td>\n",
       "      <td>148.56</td>\n",
       "      <td>94655.76</td>\n",
       "      <td>259.33</td>\n",
       "      <td>100306.22</td>\n",
       "      <td>274.06</td>\n",
       "      <td>60767.8</td>\n",
       "      <td>166.49</td>\n",
       "      <td>94551.77</td>\n",
       "      <td>259.05</td>\n",
       "      <td>61746.75</td>\n",
       "      <td>169.17</td>\n",
       "      <td>58286.80</td>\n",
       "      <td>167.05</td>\n",
       "      <td>60973.16</td>\n",
       "      <td>167.05</td>\n",
       "      <td>56632.20</td>\n",
       "      <td>155.16</td>\n",
       "    </tr>\n",
       "    <tr>\n",
       "      <th>5</th>\n",
       "      <td>1005</td>\n",
       "      <td>85742.96</td>\n",
       "      <td>234.91</td>\n",
       "      <td>87370.03</td>\n",
       "      <td>239.37</td>\n",
       "      <td>98955.18</td>\n",
       "      <td>270.37</td>\n",
       "      <td>93232.5</td>\n",
       "      <td>255.43</td>\n",
       "      <td>119561.54</td>\n",
       "      <td>327.57</td>\n",
       "      <td>99176.79</td>\n",
       "      <td>271.72</td>\n",
       "      <td>102066.16</td>\n",
       "      <td>302.24</td>\n",
       "      <td>110318.20</td>\n",
       "      <td>302.24</td>\n",
       "      <td>112955.13</td>\n",
       "      <td>309.47</td>\n",
       "    </tr>\n",
       "    <tr>\n",
       "      <th>6</th>\n",
       "      <td>1006</td>\n",
       "      <td>101745.01</td>\n",
       "      <td>278.75</td>\n",
       "      <td>87276.00</td>\n",
       "      <td>239.11</td>\n",
       "      <td>92009.14</td>\n",
       "      <td>251.39</td>\n",
       "      <td>120589.0</td>\n",
       "      <td>330.38</td>\n",
       "      <td>102164.88</td>\n",
       "      <td>279.90</td>\n",
       "      <td>113420.03</td>\n",
       "      <td>310.74</td>\n",
       "      <td>106544.60</td>\n",
       "      <td>338.62</td>\n",
       "      <td>123596.09</td>\n",
       "      <td>338.62</td>\n",
       "      <td>124970.88</td>\n",
       "      <td>342.39</td>\n",
       "    </tr>\n",
       "    <tr>\n",
       "      <th>7</th>\n",
       "      <td>1007</td>\n",
       "      <td>75719.25</td>\n",
       "      <td>207.45</td>\n",
       "      <td>86006.01</td>\n",
       "      <td>235.63</td>\n",
       "      <td>94435.68</td>\n",
       "      <td>258.02</td>\n",
       "      <td>104379.0</td>\n",
       "      <td>285.97</td>\n",
       "      <td>30773.10</td>\n",
       "      <td>84.31</td>\n",
       "      <td>104085.17</td>\n",
       "      <td>285.16</td>\n",
       "      <td>30383.52</td>\n",
       "      <td>309.70</td>\n",
       "      <td>113038.70</td>\n",
       "      <td>309.70</td>\n",
       "      <td>111800.66</td>\n",
       "      <td>306.30</td>\n",
       "    </tr>\n",
       "    <tr>\n",
       "      <th>8</th>\n",
       "      <td>1008</td>\n",
       "      <td>32203.77</td>\n",
       "      <td>88.23</td>\n",
       "      <td>82532.46</td>\n",
       "      <td>226.12</td>\n",
       "      <td>99912.63</td>\n",
       "      <td>272.99</td>\n",
       "      <td>32474.1</td>\n",
       "      <td>88.97</td>\n",
       "      <td>56855.12</td>\n",
       "      <td>155.77</td>\n",
       "      <td>31207.79</td>\n",
       "      <td>85.50</td>\n",
       "      <td>117706.24</td>\n",
       "      <td>83.97</td>\n",
       "      <td>30650.17</td>\n",
       "      <td>83.97</td>\n",
       "      <td>29790.81</td>\n",
       "      <td>81.62</td>\n",
       "    </tr>\n",
       "    <tr>\n",
       "      <th>9</th>\n",
       "      <td>1009</td>\n",
       "      <td>48978.52</td>\n",
       "      <td>134.19</td>\n",
       "      <td>78200.31</td>\n",
       "      <td>214.25</td>\n",
       "      <td>87574.21</td>\n",
       "      <td>239.27</td>\n",
       "      <td>56903.1</td>\n",
       "      <td>155.90</td>\n",
       "      <td>43346.67</td>\n",
       "      <td>118.76</td>\n",
       "      <td>54404.30</td>\n",
       "      <td>149.05</td>\n",
       "      <td>53592.83</td>\n",
       "      <td>147.54</td>\n",
       "      <td>53853.74</td>\n",
       "      <td>147.54</td>\n",
       "      <td>53164.78</td>\n",
       "      <td>145.66</td>\n",
       "    </tr>\n",
       "  </tbody>\n",
       "</table>\n",
       "</div>"
      ],
      "text/plain": [
       "   dcode  garbage53  garbageperday53  garbage54  garbageperday54  garbage55  \\\n",
       "0   1000  189819.45           520.05  122869.76           336.63  133599.00   \n",
       "1   1001   69166.29           189.50  106149.08           290.82  119485.81   \n",
       "2   1002   62244.26           170.53  105379.61           288.71     116.37   \n",
       "3   1003   32339.16            88.60   95059.04           260.44   97084.32   \n",
       "4   1004   54224.38           148.56   94655.76           259.33  100306.22   \n",
       "5   1005   85742.96           234.91   87370.03           239.37   98955.18   \n",
       "6   1006  101745.01           278.75   87276.00           239.11   92009.14   \n",
       "7   1007   75719.25           207.45   86006.01           235.63   94435.68   \n",
       "8   1008   32203.77            88.23   82532.46           226.12   99912.63   \n",
       "9   1009   48978.52           134.19   78200.31           214.25   87574.21   \n",
       "\n",
       "   garbageperday55  garbage56  garbageperday56  garbage57  garbageperday57  \\\n",
       "0           365.02   206932.0           566.94  210940.80           577.92   \n",
       "1           326.46    71844.4           196.83   69299.50           189.86   \n",
       "2           317.96    64255.4           176.04   62915.62           172.37   \n",
       "3           265.26    40386.7           110.65   58888.59           161.34   \n",
       "4           274.06    60767.8           166.49   94551.77           259.05   \n",
       "5           270.37    93232.5           255.43  119561.54           327.57   \n",
       "6           251.39   120589.0           330.38  102164.88           279.90   \n",
       "7           258.02   104379.0           285.97   30773.10            84.31   \n",
       "8           272.99    32474.1            88.97   56855.12           155.77   \n",
       "9           239.27    56903.1           155.90   43346.67           118.76   \n",
       "\n",
       "   garbage58  garbageperday58  garbage59  garbageperday59  garbage60  \\\n",
       "0  217247.09             2.74  199522.73           545.14  203794.98   \n",
       "1   72019.02           197.31   70243.12           200.00   72998.93   \n",
       "2   63580.71           174.19   63750.08           173.51   63331.79   \n",
       "3   43111.42           118.11   43545.74           131.30   47922.93   \n",
       "4   61746.75           169.17   58286.80           167.05   60973.16   \n",
       "5   99176.79           271.72  102066.16           302.24  110318.20   \n",
       "6  113420.03           310.74  106544.60           338.62  123596.09   \n",
       "7  104085.17           285.16   30383.52           309.70  113038.70   \n",
       "8   31207.79            85.50  117706.24            83.97   30650.17   \n",
       "9   54404.30           149.05   53592.83           147.54   53853.74   \n",
       "\n",
       "   garbageperday60  garbage61  garbageperday61  \n",
       "0           558.34  219418.80           601.15  \n",
       "1           200.00   71372.82           195.54  \n",
       "2           173.51   62186.37           170.37  \n",
       "3           131.30   50319.74           137.86  \n",
       "4           167.05   56632.20           155.16  \n",
       "5           302.24  112955.13           309.47  \n",
       "6           338.62  124970.88           342.39  \n",
       "7           309.70  111800.66           306.30  \n",
       "8            83.97   29790.81            81.62  \n",
       "9           147.54   53164.78           145.66  "
      ]
     },
     "execution_count": 108,
     "metadata": {},
     "output_type": "execute_result"
    }
   ],
   "source": [
    "#clean ข้อมูลที่เป็น 0.00\n",
    "data['garbageperday60'] = (data['garbage60'] /365).round(2)\n",
    "data.head(10)"
   ]
  },
  {
   "cell_type": "code",
   "execution_count": 109,
   "metadata": {
    "colab": {
     "base_uri": "https://localhost:8080/",
     "height": 226
    },
    "colab_type": "code",
    "executionInfo": {
     "elapsed": 1302,
     "status": "ok",
     "timestamp": 1600277216185,
     "user": {
      "displayName": "Nuttiwut Ektarawong",
      "photoUrl": "",
      "userId": "04508521584322221843"
     },
     "user_tz": -420
    },
    "id": "w6yK9v74tuFJ",
    "outputId": "f7dbabe3-1a20-413a-e20f-8de654932e20"
   },
   "outputs": [
    {
     "data": {
      "text/html": [
       "<div>\n",
       "<style scoped>\n",
       "    .dataframe tbody tr th:only-of-type {\n",
       "        vertical-align: middle;\n",
       "    }\n",
       "\n",
       "    .dataframe tbody tr th {\n",
       "        vertical-align: top;\n",
       "    }\n",
       "\n",
       "    .dataframe thead th {\n",
       "        text-align: right;\n",
       "    }\n",
       "</style>\n",
       "<table border=\"1\" class=\"dataframe\">\n",
       "  <thead>\n",
       "    <tr style=\"text-align: right;\">\n",
       "      <th></th>\n",
       "      <th>dcode</th>\n",
       "      <th>garbage53</th>\n",
       "      <th>garbageperday53</th>\n",
       "      <th>garbage54</th>\n",
       "      <th>garbageperday54</th>\n",
       "      <th>garbage55</th>\n",
       "      <th>garbageperday55</th>\n",
       "      <th>garbage56</th>\n",
       "      <th>garbageperday56</th>\n",
       "      <th>garbage57</th>\n",
       "      <th>garbageperday57</th>\n",
       "      <th>garbage58</th>\n",
       "      <th>garbageperday58</th>\n",
       "      <th>garbage59</th>\n",
       "      <th>garbageperday59</th>\n",
       "      <th>garbage60</th>\n",
       "      <th>garbageperday60</th>\n",
       "      <th>garbage61</th>\n",
       "      <th>garbageperday61</th>\n",
       "    </tr>\n",
       "  </thead>\n",
       "  <tbody>\n",
       "    <tr>\n",
       "      <th>0</th>\n",
       "      <td>1000</td>\n",
       "      <td>189819.45</td>\n",
       "      <td>520.05</td>\n",
       "      <td>122869.76</td>\n",
       "      <td>336.63</td>\n",
       "      <td>133599.00</td>\n",
       "      <td>365.02</td>\n",
       "      <td>206932.0</td>\n",
       "      <td>566.94</td>\n",
       "      <td>210940.80</td>\n",
       "      <td>577.92</td>\n",
       "      <td>217247.09</td>\n",
       "      <td>595.20</td>\n",
       "      <td>199522.73</td>\n",
       "      <td>545.14</td>\n",
       "      <td>203794.98</td>\n",
       "      <td>558.34</td>\n",
       "      <td>219418.80</td>\n",
       "      <td>601.15</td>\n",
       "    </tr>\n",
       "    <tr>\n",
       "      <th>1</th>\n",
       "      <td>1001</td>\n",
       "      <td>69166.29</td>\n",
       "      <td>189.50</td>\n",
       "      <td>106149.08</td>\n",
       "      <td>290.82</td>\n",
       "      <td>119485.81</td>\n",
       "      <td>326.46</td>\n",
       "      <td>71844.4</td>\n",
       "      <td>196.83</td>\n",
       "      <td>69299.50</td>\n",
       "      <td>189.86</td>\n",
       "      <td>72019.02</td>\n",
       "      <td>197.31</td>\n",
       "      <td>70243.12</td>\n",
       "      <td>200.00</td>\n",
       "      <td>72998.93</td>\n",
       "      <td>200.00</td>\n",
       "      <td>71372.82</td>\n",
       "      <td>195.54</td>\n",
       "    </tr>\n",
       "    <tr>\n",
       "      <th>2</th>\n",
       "      <td>1002</td>\n",
       "      <td>62244.26</td>\n",
       "      <td>170.53</td>\n",
       "      <td>105379.61</td>\n",
       "      <td>288.71</td>\n",
       "      <td>116.37</td>\n",
       "      <td>317.96</td>\n",
       "      <td>64255.4</td>\n",
       "      <td>176.04</td>\n",
       "      <td>62915.62</td>\n",
       "      <td>172.37</td>\n",
       "      <td>63580.71</td>\n",
       "      <td>174.19</td>\n",
       "      <td>63750.08</td>\n",
       "      <td>173.51</td>\n",
       "      <td>63331.79</td>\n",
       "      <td>173.51</td>\n",
       "      <td>62186.37</td>\n",
       "      <td>170.37</td>\n",
       "    </tr>\n",
       "    <tr>\n",
       "      <th>3</th>\n",
       "      <td>1003</td>\n",
       "      <td>32339.16</td>\n",
       "      <td>88.60</td>\n",
       "      <td>95059.04</td>\n",
       "      <td>260.44</td>\n",
       "      <td>97084.32</td>\n",
       "      <td>265.26</td>\n",
       "      <td>40386.7</td>\n",
       "      <td>110.65</td>\n",
       "      <td>58888.59</td>\n",
       "      <td>161.34</td>\n",
       "      <td>43111.42</td>\n",
       "      <td>118.11</td>\n",
       "      <td>43545.74</td>\n",
       "      <td>131.30</td>\n",
       "      <td>47922.93</td>\n",
       "      <td>131.30</td>\n",
       "      <td>50319.74</td>\n",
       "      <td>137.86</td>\n",
       "    </tr>\n",
       "    <tr>\n",
       "      <th>4</th>\n",
       "      <td>1004</td>\n",
       "      <td>54224.38</td>\n",
       "      <td>148.56</td>\n",
       "      <td>94655.76</td>\n",
       "      <td>259.33</td>\n",
       "      <td>100306.22</td>\n",
       "      <td>274.06</td>\n",
       "      <td>60767.8</td>\n",
       "      <td>166.49</td>\n",
       "      <td>94551.77</td>\n",
       "      <td>259.05</td>\n",
       "      <td>61746.75</td>\n",
       "      <td>169.17</td>\n",
       "      <td>58286.80</td>\n",
       "      <td>167.05</td>\n",
       "      <td>60973.16</td>\n",
       "      <td>167.05</td>\n",
       "      <td>56632.20</td>\n",
       "      <td>155.16</td>\n",
       "    </tr>\n",
       "  </tbody>\n",
       "</table>\n",
       "</div>"
      ],
      "text/plain": [
       "   dcode  garbage53  garbageperday53  garbage54  garbageperday54  garbage55  \\\n",
       "0   1000  189819.45           520.05  122869.76           336.63  133599.00   \n",
       "1   1001   69166.29           189.50  106149.08           290.82  119485.81   \n",
       "2   1002   62244.26           170.53  105379.61           288.71     116.37   \n",
       "3   1003   32339.16            88.60   95059.04           260.44   97084.32   \n",
       "4   1004   54224.38           148.56   94655.76           259.33  100306.22   \n",
       "\n",
       "   garbageperday55  garbage56  garbageperday56  garbage57  garbageperday57  \\\n",
       "0           365.02   206932.0           566.94  210940.80           577.92   \n",
       "1           326.46    71844.4           196.83   69299.50           189.86   \n",
       "2           317.96    64255.4           176.04   62915.62           172.37   \n",
       "3           265.26    40386.7           110.65   58888.59           161.34   \n",
       "4           274.06    60767.8           166.49   94551.77           259.05   \n",
       "\n",
       "   garbage58  garbageperday58  garbage59  garbageperday59  garbage60  \\\n",
       "0  217247.09           595.20  199522.73           545.14  203794.98   \n",
       "1   72019.02           197.31   70243.12           200.00   72998.93   \n",
       "2   63580.71           174.19   63750.08           173.51   63331.79   \n",
       "3   43111.42           118.11   43545.74           131.30   47922.93   \n",
       "4   61746.75           169.17   58286.80           167.05   60973.16   \n",
       "\n",
       "   garbageperday60  garbage61  garbageperday61  \n",
       "0           558.34  219418.80           601.15  \n",
       "1           200.00   71372.82           195.54  \n",
       "2           173.51   62186.37           170.37  \n",
       "3           131.30   50319.74           137.86  \n",
       "4           167.05   56632.20           155.16  "
      ]
     },
     "execution_count": 109,
     "metadata": {},
     "output_type": "execute_result"
    }
   ],
   "source": [
    "#clean ข้อมูลที่ไม่ตรงของ garbageperday58\n",
    "data['garbageperday58'] = (data['garbage58'] /365).round(2)\n",
    "data.head()"
   ]
  },
  {
   "cell_type": "code",
   "execution_count": 110,
   "metadata": {
    "colab": {
     "base_uri": "https://localhost:8080/",
     "height": 226
    },
    "colab_type": "code",
    "executionInfo": {
     "elapsed": 1209,
     "status": "ok",
     "timestamp": 1600277217198,
     "user": {
      "displayName": "Nuttiwut Ektarawong",
      "photoUrl": "",
      "userId": "04508521584322221843"
     },
     "user_tz": -420
    },
    "id": "uVjc0dIeuuP2",
    "outputId": "e19541ae-acfa-4eac-832d-6995837fe135"
   },
   "outputs": [
    {
     "data": {
      "text/html": [
       "<div>\n",
       "<style scoped>\n",
       "    .dataframe tbody tr th:only-of-type {\n",
       "        vertical-align: middle;\n",
       "    }\n",
       "\n",
       "    .dataframe tbody tr th {\n",
       "        vertical-align: top;\n",
       "    }\n",
       "\n",
       "    .dataframe thead th {\n",
       "        text-align: right;\n",
       "    }\n",
       "</style>\n",
       "<table border=\"1\" class=\"dataframe\">\n",
       "  <thead>\n",
       "    <tr style=\"text-align: right;\">\n",
       "      <th></th>\n",
       "      <th>dcode</th>\n",
       "      <th>garbage53</th>\n",
       "      <th>garbageperday53</th>\n",
       "      <th>garbage54</th>\n",
       "      <th>garbageperday54</th>\n",
       "      <th>garbage55</th>\n",
       "      <th>garbageperday55</th>\n",
       "      <th>garbage56</th>\n",
       "      <th>garbageperday56</th>\n",
       "      <th>garbage57</th>\n",
       "      <th>garbageperday57</th>\n",
       "      <th>garbage58</th>\n",
       "      <th>garbageperday58</th>\n",
       "      <th>garbage59</th>\n",
       "      <th>garbageperday59</th>\n",
       "      <th>garbage60</th>\n",
       "      <th>garbageperday60</th>\n",
       "      <th>garbage61</th>\n",
       "      <th>garbageperday61</th>\n",
       "    </tr>\n",
       "  </thead>\n",
       "  <tbody>\n",
       "    <tr>\n",
       "      <th>0</th>\n",
       "      <td>1000</td>\n",
       "      <td>189819.45</td>\n",
       "      <td>520.05</td>\n",
       "      <td>122869.76</td>\n",
       "      <td>336.63</td>\n",
       "      <td>133599.00</td>\n",
       "      <td>365.02</td>\n",
       "      <td>206932.0</td>\n",
       "      <td>566.94</td>\n",
       "      <td>210940.80</td>\n",
       "      <td>577.92</td>\n",
       "      <td>217247.09</td>\n",
       "      <td>595.20</td>\n",
       "      <td>199522.73</td>\n",
       "      <td>545.14</td>\n",
       "      <td>203794.98</td>\n",
       "      <td>558.34</td>\n",
       "      <td>219418.80</td>\n",
       "      <td>601.15</td>\n",
       "    </tr>\n",
       "    <tr>\n",
       "      <th>1</th>\n",
       "      <td>1001</td>\n",
       "      <td>69166.29</td>\n",
       "      <td>189.50</td>\n",
       "      <td>106149.08</td>\n",
       "      <td>290.82</td>\n",
       "      <td>119485.81</td>\n",
       "      <td>326.46</td>\n",
       "      <td>71844.4</td>\n",
       "      <td>196.83</td>\n",
       "      <td>69299.50</td>\n",
       "      <td>189.86</td>\n",
       "      <td>72019.02</td>\n",
       "      <td>197.31</td>\n",
       "      <td>70243.12</td>\n",
       "      <td>200.00</td>\n",
       "      <td>72998.93</td>\n",
       "      <td>200.00</td>\n",
       "      <td>71372.82</td>\n",
       "      <td>195.54</td>\n",
       "    </tr>\n",
       "    <tr>\n",
       "      <th>2</th>\n",
       "      <td>1002</td>\n",
       "      <td>62244.26</td>\n",
       "      <td>170.53</td>\n",
       "      <td>105379.61</td>\n",
       "      <td>288.71</td>\n",
       "      <td>116055.40</td>\n",
       "      <td>317.96</td>\n",
       "      <td>64255.4</td>\n",
       "      <td>176.04</td>\n",
       "      <td>62915.62</td>\n",
       "      <td>172.37</td>\n",
       "      <td>63580.71</td>\n",
       "      <td>174.19</td>\n",
       "      <td>63750.08</td>\n",
       "      <td>173.51</td>\n",
       "      <td>63331.79</td>\n",
       "      <td>173.51</td>\n",
       "      <td>62186.37</td>\n",
       "      <td>170.37</td>\n",
       "    </tr>\n",
       "    <tr>\n",
       "      <th>3</th>\n",
       "      <td>1003</td>\n",
       "      <td>32339.16</td>\n",
       "      <td>88.60</td>\n",
       "      <td>95059.04</td>\n",
       "      <td>260.44</td>\n",
       "      <td>97084.32</td>\n",
       "      <td>265.26</td>\n",
       "      <td>40386.7</td>\n",
       "      <td>110.65</td>\n",
       "      <td>58888.59</td>\n",
       "      <td>161.34</td>\n",
       "      <td>43111.42</td>\n",
       "      <td>118.11</td>\n",
       "      <td>43545.74</td>\n",
       "      <td>131.30</td>\n",
       "      <td>47922.93</td>\n",
       "      <td>131.30</td>\n",
       "      <td>50319.74</td>\n",
       "      <td>137.86</td>\n",
       "    </tr>\n",
       "    <tr>\n",
       "      <th>4</th>\n",
       "      <td>1004</td>\n",
       "      <td>54224.38</td>\n",
       "      <td>148.56</td>\n",
       "      <td>94655.76</td>\n",
       "      <td>259.33</td>\n",
       "      <td>100306.22</td>\n",
       "      <td>274.06</td>\n",
       "      <td>60767.8</td>\n",
       "      <td>166.49</td>\n",
       "      <td>94551.77</td>\n",
       "      <td>259.05</td>\n",
       "      <td>61746.75</td>\n",
       "      <td>169.17</td>\n",
       "      <td>58286.80</td>\n",
       "      <td>167.05</td>\n",
       "      <td>60973.16</td>\n",
       "      <td>167.05</td>\n",
       "      <td>56632.20</td>\n",
       "      <td>155.16</td>\n",
       "    </tr>\n",
       "  </tbody>\n",
       "</table>\n",
       "</div>"
      ],
      "text/plain": [
       "   dcode  garbage53  garbageperday53  garbage54  garbageperday54  garbage55  \\\n",
       "0   1000  189819.45           520.05  122869.76           336.63  133599.00   \n",
       "1   1001   69166.29           189.50  106149.08           290.82  119485.81   \n",
       "2   1002   62244.26           170.53  105379.61           288.71  116055.40   \n",
       "3   1003   32339.16            88.60   95059.04           260.44   97084.32   \n",
       "4   1004   54224.38           148.56   94655.76           259.33  100306.22   \n",
       "\n",
       "   garbageperday55  garbage56  garbageperday56  garbage57  garbageperday57  \\\n",
       "0           365.02   206932.0           566.94  210940.80           577.92   \n",
       "1           326.46    71844.4           196.83   69299.50           189.86   \n",
       "2           317.96    64255.4           176.04   62915.62           172.37   \n",
       "3           265.26    40386.7           110.65   58888.59           161.34   \n",
       "4           274.06    60767.8           166.49   94551.77           259.05   \n",
       "\n",
       "   garbage58  garbageperday58  garbage59  garbageperday59  garbage60  \\\n",
       "0  217247.09           595.20  199522.73           545.14  203794.98   \n",
       "1   72019.02           197.31   70243.12           200.00   72998.93   \n",
       "2   63580.71           174.19   63750.08           173.51   63331.79   \n",
       "3   43111.42           118.11   43545.74           131.30   47922.93   \n",
       "4   61746.75           169.17   58286.80           167.05   60973.16   \n",
       "\n",
       "   garbageperday60  garbage61  garbageperday61  \n",
       "0           558.34  219418.80           601.15  \n",
       "1           200.00   71372.82           195.54  \n",
       "2           173.51   62186.37           170.37  \n",
       "3           131.30   50319.74           137.86  \n",
       "4           167.05   56632.20           155.16  "
      ]
     },
     "execution_count": 110,
     "metadata": {},
     "output_type": "execute_result"
    }
   ],
   "source": [
    "#clean ข้อมูลที่ไม่ตรงของ garbageday55 \n",
    "data.loc[2,'garbage55'] = 317.96*365\n",
    "data.head()"
   ]
  },
  {
   "cell_type": "code",
   "execution_count": 111,
   "metadata": {
    "colab": {
     "base_uri": "https://localhost:8080/",
     "height": 320
    },
    "colab_type": "code",
    "executionInfo": {
     "elapsed": 1345,
     "status": "ok",
     "timestamp": 1600277217868,
     "user": {
      "displayName": "Nuttiwut Ektarawong",
      "photoUrl": "",
      "userId": "04508521584322221843"
     },
     "user_tz": -420
    },
    "id": "l2JP8iRZtEDo",
    "outputId": "9ed0ea35-f432-4aa9-dd0d-5dbb8ce8b549"
   },
   "outputs": [
    {
     "data": {
      "text/html": [
       "<div>\n",
       "<style scoped>\n",
       "    .dataframe tbody tr th:only-of-type {\n",
       "        vertical-align: middle;\n",
       "    }\n",
       "\n",
       "    .dataframe tbody tr th {\n",
       "        vertical-align: top;\n",
       "    }\n",
       "\n",
       "    .dataframe thead th {\n",
       "        text-align: right;\n",
       "    }\n",
       "</style>\n",
       "<table border=\"1\" class=\"dataframe\">\n",
       "  <thead>\n",
       "    <tr style=\"text-align: right;\">\n",
       "      <th></th>\n",
       "      <th>dcode</th>\n",
       "      <th>garbage53</th>\n",
       "      <th>garbageperday53</th>\n",
       "      <th>garbage54</th>\n",
       "      <th>garbageperday54</th>\n",
       "      <th>garbage55</th>\n",
       "      <th>garbageperday55</th>\n",
       "      <th>garbage56</th>\n",
       "      <th>garbageperday56</th>\n",
       "      <th>garbage57</th>\n",
       "      <th>garbageperday57</th>\n",
       "      <th>garbage58</th>\n",
       "      <th>garbageperday58</th>\n",
       "      <th>garbage59</th>\n",
       "      <th>garbageperday59</th>\n",
       "      <th>garbage60</th>\n",
       "      <th>garbageperday60</th>\n",
       "      <th>garbage61</th>\n",
       "      <th>garbageperday61</th>\n",
       "    </tr>\n",
       "  </thead>\n",
       "  <tbody>\n",
       "    <tr>\n",
       "      <th>count</th>\n",
       "      <td>51.000000</td>\n",
       "      <td>51.000000</td>\n",
       "      <td>51.000000</td>\n",
       "      <td>51.000000</td>\n",
       "      <td>51.000000</td>\n",
       "      <td>51.000000</td>\n",
       "      <td>51.000000</td>\n",
       "      <td>51.000000</td>\n",
       "      <td>51.000000</td>\n",
       "      <td>51.000000</td>\n",
       "      <td>51.000000</td>\n",
       "      <td>51.000000</td>\n",
       "      <td>51.000000</td>\n",
       "      <td>51.000000</td>\n",
       "      <td>51.000000</td>\n",
       "      <td>51.000000</td>\n",
       "      <td>51.000000</td>\n",
       "      <td>51.000000</td>\n",
       "      <td>51.000000</td>\n",
       "    </tr>\n",
       "    <tr>\n",
       "      <th>mean</th>\n",
       "      <td>1025.000000</td>\n",
       "      <td>62761.218627</td>\n",
       "      <td>171.948431</td>\n",
       "      <td>66108.812549</td>\n",
       "      <td>181.119020</td>\n",
       "      <td>69962.739216</td>\n",
       "      <td>191.171961</td>\n",
       "      <td>71150.090196</td>\n",
       "      <td>194.932157</td>\n",
       "      <td>71098.573137</td>\n",
       "      <td>194.791176</td>\n",
       "      <td>72632.678824</td>\n",
       "      <td>198.992745</td>\n",
       "      <td>72699.212745</td>\n",
       "      <td>207.312549</td>\n",
       "      <td>75763.384118</td>\n",
       "      <td>207.571373</td>\n",
       "      <td>76711.534118</td>\n",
       "      <td>210.168824</td>\n",
       "    </tr>\n",
       "    <tr>\n",
       "      <th>std</th>\n",
       "      <td>14.866069</td>\n",
       "      <td>27046.592499</td>\n",
       "      <td>74.099717</td>\n",
       "      <td>32813.365980</td>\n",
       "      <td>89.899822</td>\n",
       "      <td>31309.167216</td>\n",
       "      <td>85.568913</td>\n",
       "      <td>31305.533751</td>\n",
       "      <td>85.768993</td>\n",
       "      <td>31587.300794</td>\n",
       "      <td>86.540061</td>\n",
       "      <td>32051.188825</td>\n",
       "      <td>87.811878</td>\n",
       "      <td>31095.751084</td>\n",
       "      <td>88.275868</td>\n",
       "      <td>32594.400163</td>\n",
       "      <td>89.299598</td>\n",
       "      <td>34167.818035</td>\n",
       "      <td>93.611040</td>\n",
       "    </tr>\n",
       "    <tr>\n",
       "      <th>min</th>\n",
       "      <td>1000.000000</td>\n",
       "      <td>21238.740000</td>\n",
       "      <td>58.190000</td>\n",
       "      <td>21425.180000</td>\n",
       "      <td>58.700000</td>\n",
       "      <td>21959.450000</td>\n",
       "      <td>60.000000</td>\n",
       "      <td>21322.200000</td>\n",
       "      <td>58.420000</td>\n",
       "      <td>20630.960000</td>\n",
       "      <td>56.520000</td>\n",
       "      <td>21118.320000</td>\n",
       "      <td>57.860000</td>\n",
       "      <td>20401.970000</td>\n",
       "      <td>56.480000</td>\n",
       "      <td>20614.700000</td>\n",
       "      <td>56.480000</td>\n",
       "      <td>19879.550000</td>\n",
       "      <td>54.460000</td>\n",
       "    </tr>\n",
       "    <tr>\n",
       "      <th>25%</th>\n",
       "      <td>1012.500000</td>\n",
       "      <td>47650.175000</td>\n",
       "      <td>130.550000</td>\n",
       "      <td>48319.550000</td>\n",
       "      <td>132.380000</td>\n",
       "      <td>54189.350000</td>\n",
       "      <td>148.055000</td>\n",
       "      <td>53959.400000</td>\n",
       "      <td>147.835000</td>\n",
       "      <td>54279.440000</td>\n",
       "      <td>148.710000</td>\n",
       "      <td>54937.520000</td>\n",
       "      <td>150.510000</td>\n",
       "      <td>54326.850000</td>\n",
       "      <td>151.860000</td>\n",
       "      <td>55429.595000</td>\n",
       "      <td>151.860000</td>\n",
       "      <td>55927.600000</td>\n",
       "      <td>153.230000</td>\n",
       "    </tr>\n",
       "    <tr>\n",
       "      <th>50%</th>\n",
       "      <td>1025.000000</td>\n",
       "      <td>58392.590000</td>\n",
       "      <td>159.980000</td>\n",
       "      <td>59626.210000</td>\n",
       "      <td>163.360000</td>\n",
       "      <td>63432.940000</td>\n",
       "      <td>173.310000</td>\n",
       "      <td>64255.400000</td>\n",
       "      <td>176.040000</td>\n",
       "      <td>64219.380000</td>\n",
       "      <td>175.940000</td>\n",
       "      <td>67058.970000</td>\n",
       "      <td>183.720000</td>\n",
       "      <td>68937.140000</td>\n",
       "      <td>190.230000</td>\n",
       "      <td>69434.960000</td>\n",
       "      <td>190.230000</td>\n",
       "      <td>69576.220000</td>\n",
       "      <td>190.620000</td>\n",
       "    </tr>\n",
       "    <tr>\n",
       "      <th>75%</th>\n",
       "      <td>1037.500000</td>\n",
       "      <td>69266.780000</td>\n",
       "      <td>189.775000</td>\n",
       "      <td>73344.165000</td>\n",
       "      <td>200.940000</td>\n",
       "      <td>79787.615000</td>\n",
       "      <td>218.000000</td>\n",
       "      <td>83434.550000</td>\n",
       "      <td>228.590000</td>\n",
       "      <td>84497.320000</td>\n",
       "      <td>231.500000</td>\n",
       "      <td>83133.685000</td>\n",
       "      <td>227.765000</td>\n",
       "      <td>83821.360000</td>\n",
       "      <td>234.700000</td>\n",
       "      <td>85665.445000</td>\n",
       "      <td>234.700000</td>\n",
       "      <td>86475.710000</td>\n",
       "      <td>236.920000</td>\n",
       "    </tr>\n",
       "    <tr>\n",
       "      <th>max</th>\n",
       "      <td>1050.000000</td>\n",
       "      <td>189819.450000</td>\n",
       "      <td>520.050000</td>\n",
       "      <td>243032.060000</td>\n",
       "      <td>665.840000</td>\n",
       "      <td>216296.810000</td>\n",
       "      <td>590.970000</td>\n",
       "      <td>206932.000000</td>\n",
       "      <td>566.940000</td>\n",
       "      <td>210940.800000</td>\n",
       "      <td>577.920000</td>\n",
       "      <td>217247.090000</td>\n",
       "      <td>595.200000</td>\n",
       "      <td>199522.730000</td>\n",
       "      <td>545.140000</td>\n",
       "      <td>203794.980000</td>\n",
       "      <td>558.340000</td>\n",
       "      <td>219418.800000</td>\n",
       "      <td>601.150000</td>\n",
       "    </tr>\n",
       "  </tbody>\n",
       "</table>\n",
       "</div>"
      ],
      "text/plain": [
       "             dcode      garbage53  garbageperday53      garbage54  \\\n",
       "count    51.000000      51.000000        51.000000      51.000000   \n",
       "mean   1025.000000   62761.218627       171.948431   66108.812549   \n",
       "std      14.866069   27046.592499        74.099717   32813.365980   \n",
       "min    1000.000000   21238.740000        58.190000   21425.180000   \n",
       "25%    1012.500000   47650.175000       130.550000   48319.550000   \n",
       "50%    1025.000000   58392.590000       159.980000   59626.210000   \n",
       "75%    1037.500000   69266.780000       189.775000   73344.165000   \n",
       "max    1050.000000  189819.450000       520.050000  243032.060000   \n",
       "\n",
       "       garbageperday54      garbage55  garbageperday55      garbage56  \\\n",
       "count        51.000000      51.000000        51.000000      51.000000   \n",
       "mean        181.119020   69962.739216       191.171961   71150.090196   \n",
       "std          89.899822   31309.167216        85.568913   31305.533751   \n",
       "min          58.700000   21959.450000        60.000000   21322.200000   \n",
       "25%         132.380000   54189.350000       148.055000   53959.400000   \n",
       "50%         163.360000   63432.940000       173.310000   64255.400000   \n",
       "75%         200.940000   79787.615000       218.000000   83434.550000   \n",
       "max         665.840000  216296.810000       590.970000  206932.000000   \n",
       "\n",
       "       garbageperday56      garbage57  garbageperday57      garbage58  \\\n",
       "count        51.000000      51.000000        51.000000      51.000000   \n",
       "mean        194.932157   71098.573137       194.791176   72632.678824   \n",
       "std          85.768993   31587.300794        86.540061   32051.188825   \n",
       "min          58.420000   20630.960000        56.520000   21118.320000   \n",
       "25%         147.835000   54279.440000       148.710000   54937.520000   \n",
       "50%         176.040000   64219.380000       175.940000   67058.970000   \n",
       "75%         228.590000   84497.320000       231.500000   83133.685000   \n",
       "max         566.940000  210940.800000       577.920000  217247.090000   \n",
       "\n",
       "       garbageperday58      garbage59  garbageperday59      garbage60  \\\n",
       "count        51.000000      51.000000        51.000000      51.000000   \n",
       "mean        198.992745   72699.212745       207.312549   75763.384118   \n",
       "std          87.811878   31095.751084        88.275868   32594.400163   \n",
       "min          57.860000   20401.970000        56.480000   20614.700000   \n",
       "25%         150.510000   54326.850000       151.860000   55429.595000   \n",
       "50%         183.720000   68937.140000       190.230000   69434.960000   \n",
       "75%         227.765000   83821.360000       234.700000   85665.445000   \n",
       "max         595.200000  199522.730000       545.140000  203794.980000   \n",
       "\n",
       "       garbageperday60      garbage61  garbageperday61  \n",
       "count        51.000000      51.000000        51.000000  \n",
       "mean        207.571373   76711.534118       210.168824  \n",
       "std          89.299598   34167.818035        93.611040  \n",
       "min          56.480000   19879.550000        54.460000  \n",
       "25%         151.860000   55927.600000       153.230000  \n",
       "50%         190.230000   69576.220000       190.620000  \n",
       "75%         234.700000   86475.710000       236.920000  \n",
       "max         558.340000  219418.800000       601.150000  "
      ]
     },
     "execution_count": 111,
     "metadata": {},
     "output_type": "execute_result"
    }
   ],
   "source": [
    "#new describe\n",
    "data.describe()"
   ]
  },
  {
   "cell_type": "markdown",
   "metadata": {
    "colab_type": "text",
    "id": "Sj4-5RnBuwac"
   },
   "source": [
    "<h2> **Question 1** ปริมาณขยะมูลฝอยในแต่ละวันของทุกเขตรวมกันในปี 2553-2561 \n",
    "<b>ปีใดที่มีขยะมูลฝอยมากที่สุด</b></h2>\n"
   ]
  },
  {
   "cell_type": "code",
   "execution_count": 112,
   "metadata": {
    "colab": {
     "base_uri": "https://localhost:8080/",
     "height": 35
    },
    "colab_type": "code",
    "executionInfo": {
     "elapsed": 1206,
     "status": "ok",
     "timestamp": 1600277223238,
     "user": {
      "displayName": "Nuttiwut Ektarawong",
      "photoUrl": "",
      "userId": "04508521584322221843"
     },
     "user_tz": -420
    },
    "id": "CmZjEGy5HIUE",
    "outputId": "232db2f2-04bf-450d-a7e4-e7979e0b3b50"
   },
   "outputs": [
    {
     "data": {
      "text/plain": [
       "8769.369999999999"
      ]
     },
     "execution_count": 112,
     "metadata": {},
     "output_type": "execute_result"
    }
   ],
   "source": [
    "sum53 = data['garbageperday53'].sum()\n",
    "sum53"
   ]
  },
  {
   "cell_type": "code",
   "execution_count": null,
   "metadata": {},
   "outputs": [],
   "source": []
  },
  {
   "cell_type": "code",
   "execution_count": 113,
   "metadata": {
    "colab": {
     "base_uri": "https://localhost:8080/",
     "height": 35
    },
    "colab_type": "code",
    "executionInfo": {
     "elapsed": 698,
     "status": "ok",
     "timestamp": 1600277223239,
     "user": {
      "displayName": "Nuttiwut Ektarawong",
      "photoUrl": "",
      "userId": "04508521584322221843"
     },
     "user_tz": -420
    },
    "id": "5tYx143oLAJs",
    "outputId": "7098bd29-b7fd-4936-8cc5-e3683bc006f9"
   },
   "outputs": [
    {
     "data": {
      "text/plain": [
       "9237.070000000002"
      ]
     },
     "execution_count": 113,
     "metadata": {},
     "output_type": "execute_result"
    }
   ],
   "source": [
    "sum54 = data['garbageperday54'].sum()\n",
    "sum54"
   ]
  },
  {
   "cell_type": "code",
   "execution_count": 114,
   "metadata": {
    "colab": {
     "base_uri": "https://localhost:8080/",
     "height": 35
    },
    "colab_type": "code",
    "executionInfo": {
     "elapsed": 726,
     "status": "ok",
     "timestamp": 1600277223705,
     "user": {
      "displayName": "Nuttiwut Ektarawong",
      "photoUrl": "",
      "userId": "04508521584322221843"
     },
     "user_tz": -420
    },
    "id": "AjPjclSfLATJ",
    "outputId": "bb0016f8-b974-473b-d08f-facdb276ac2f"
   },
   "outputs": [
    {
     "data": {
      "text/plain": [
       "9749.77"
      ]
     },
     "execution_count": 114,
     "metadata": {},
     "output_type": "execute_result"
    }
   ],
   "source": [
    "sum55 = data['garbageperday55'].sum()\n",
    "sum55"
   ]
  },
  {
   "cell_type": "code",
   "execution_count": 115,
   "metadata": {
    "colab": {
     "base_uri": "https://localhost:8080/",
     "height": 35
    },
    "colab_type": "code",
    "executionInfo": {
     "elapsed": 1114,
     "status": "ok",
     "timestamp": 1600277224589,
     "user": {
      "displayName": "Nuttiwut Ektarawong",
      "photoUrl": "",
      "userId": "04508521584322221843"
     },
     "user_tz": -420
    },
    "id": "6bLjM_-FLAaZ",
    "outputId": "572b09f2-288f-42f8-8344-002bbdee8703"
   },
   "outputs": [
    {
     "data": {
      "text/plain": [
       "9941.539999999999"
      ]
     },
     "execution_count": 115,
     "metadata": {},
     "output_type": "execute_result"
    }
   ],
   "source": [
    "sum56 = data['garbageperday56'].sum()\n",
    "sum56"
   ]
  },
  {
   "cell_type": "code",
   "execution_count": 116,
   "metadata": {
    "colab": {
     "base_uri": "https://localhost:8080/",
     "height": 35
    },
    "colab_type": "code",
    "executionInfo": {
     "elapsed": 1012,
     "status": "ok",
     "timestamp": 1600277224974,
     "user": {
      "displayName": "Nuttiwut Ektarawong",
      "photoUrl": "",
      "userId": "04508521584322221843"
     },
     "user_tz": -420
    },
    "id": "-7udtBZ-MaTe",
    "outputId": "33ca38fe-ed27-4836-8690-e4f1a9a3d2b6"
   },
   "outputs": [
    {
     "data": {
      "text/plain": [
       "9934.35"
      ]
     },
     "execution_count": 116,
     "metadata": {},
     "output_type": "execute_result"
    }
   ],
   "source": [
    "sum57 = data['garbageperday57'].sum()\n",
    "sum57"
   ]
  },
  {
   "cell_type": "code",
   "execution_count": 117,
   "metadata": {
    "colab": {
     "base_uri": "https://localhost:8080/",
     "height": 35
    },
    "colab_type": "code",
    "executionInfo": {
     "elapsed": 1011,
     "status": "ok",
     "timestamp": 1600277226728,
     "user": {
      "displayName": "Nuttiwut Ektarawong",
      "photoUrl": "",
      "userId": "04508521584322221843"
     },
     "user_tz": -420
    },
    "id": "VH92f2D1Mc1o",
    "outputId": "e6ad2bf5-e80a-4731-903c-c1f502ce57f9"
   },
   "outputs": [
    {
     "data": {
      "text/plain": [
       "10148.63"
      ]
     },
     "execution_count": 117,
     "metadata": {},
     "output_type": "execute_result"
    }
   ],
   "source": [
    "sum58 = data['garbageperday58'].sum()\n",
    "sum58"
   ]
  },
  {
   "cell_type": "code",
   "execution_count": 118,
   "metadata": {
    "colab": {
     "base_uri": "https://localhost:8080/",
     "height": 35
    },
    "colab_type": "code",
    "executionInfo": {
     "elapsed": 1032,
     "status": "ok",
     "timestamp": 1600277227121,
     "user": {
      "displayName": "Nuttiwut Ektarawong",
      "photoUrl": "",
      "userId": "04508521584322221843"
     },
     "user_tz": -420
    },
    "id": "09gzoggYMeRm",
    "outputId": "ff72d238-dcf5-43e6-a22a-4ca82ca83d0f"
   },
   "outputs": [
    {
     "data": {
      "text/plain": [
       "10572.940000000002"
      ]
     },
     "execution_count": 118,
     "metadata": {},
     "output_type": "execute_result"
    }
   ],
   "source": [
    "sum59 = data['garbageperday59'].sum()\n",
    "sum59\n"
   ]
  },
  {
   "cell_type": "code",
   "execution_count": 119,
   "metadata": {
    "colab": {
     "base_uri": "https://localhost:8080/",
     "height": 35
    },
    "colab_type": "code",
    "executionInfo": {
     "elapsed": 1776,
     "status": "ok",
     "timestamp": 1600277228307,
     "user": {
      "displayName": "Nuttiwut Ektarawong",
      "photoUrl": "",
      "userId": "04508521584322221843"
     },
     "user_tz": -420
    },
    "id": "8hFRzLtfMhPw",
    "outputId": "63a56865-3967-4716-a511-f31ec72739d4"
   },
   "outputs": [
    {
     "data": {
      "text/plain": [
       "10586.140000000001"
      ]
     },
     "execution_count": 119,
     "metadata": {},
     "output_type": "execute_result"
    }
   ],
   "source": [
    "sum60 = data['garbageperday60'].sum()\n",
    "sum60"
   ]
  },
  {
   "cell_type": "code",
   "execution_count": 120,
   "metadata": {
    "colab": {
     "base_uri": "https://localhost:8080/",
     "height": 35
    },
    "colab_type": "code",
    "executionInfo": {
     "elapsed": 1361,
     "status": "ok",
     "timestamp": 1600277228308,
     "user": {
      "displayName": "Nuttiwut Ektarawong",
      "photoUrl": "",
      "userId": "04508521584322221843"
     },
     "user_tz": -420
    },
    "id": "LhKFMlCEMhri",
    "outputId": "40ca4e49-e99b-4bcd-b56f-2716eaea1bfd"
   },
   "outputs": [
    {
     "data": {
      "text/plain": [
       "10718.610000000002"
      ]
     },
     "execution_count": 120,
     "metadata": {},
     "output_type": "execute_result"
    }
   ],
   "source": [
    "sum61 = data['garbageperday61'].sum()\n",
    "sum61"
   ]
  },
  {
   "cell_type": "code",
   "execution_count": 121,
   "metadata": {
    "colab": {
     "base_uri": "https://localhost:8080/",
     "height": 181
    },
    "colab_type": "code",
    "executionInfo": {
     "elapsed": 923,
     "status": "ok",
     "timestamp": 1600277228310,
     "user": {
      "displayName": "Nuttiwut Ektarawong",
      "photoUrl": "",
      "userId": "04508521584322221843"
     },
     "user_tz": -420
    },
    "id": "TKecAeM5OpyF",
    "outputId": "c5e0d217-0a49-4d08-9686-a2a188ea8a27"
   },
   "outputs": [
    {
     "data": {
      "text/plain": [
       "[8769.369999999999,\n",
       " 9237.070000000002,\n",
       " 9749.77,\n",
       " 9941.539999999999,\n",
       " 9934.35,\n",
       " 10148.63,\n",
       " 10572.940000000002,\n",
       " 10586.140000000001,\n",
       " 10718.610000000002]"
      ]
     },
     "execution_count": 121,
     "metadata": {},
     "output_type": "execute_result"
    }
   ],
   "source": [
    "datasum = [sum53,sum54,sum55,sum56,sum57,sum58,sum59,sum60,sum61]\n",
    "datasum"
   ]
  },
  {
   "cell_type": "code",
   "execution_count": 122,
   "metadata": {
    "colab": {
     "base_uri": "https://localhost:8080/",
     "height": 703
    },
    "colab_type": "code",
    "executionInfo": {
     "elapsed": 1316,
     "status": "ok",
     "timestamp": 1600277332443,
     "user": {
      "displayName": "Nuttiwut Ektarawong",
      "photoUrl": "",
      "userId": "04508521584322221843"
     },
     "user_tz": -420
    },
    "id": "OiPjhFhSvsq7",
    "outputId": "19c84eab-b3a9-482f-ef91-fe26d7d846cf"
   },
   "outputs": [
    {
     "data": {
      "image/png": "[encoded data removed]",
      "text/plain": [
       "<Figure size 1440x720 with 1 Axes>"
      ]
     },
     "metadata": {
      "needs_background": "light"
     },
     "output_type": "display_data"
    }
   ],
   "source": [
    "#bar แนวตั้ง barhแนวนอน\n",
    "plt.figure(figsize=(20,10))\n",
    "data_1 = datasum\n",
    "#plt.bar(['a','b','c','d','e','f','g','h','i'], data)\n",
    "#plt.show()\n",
    "\n",
    "plt.bar(['Y53','Y54','Y55','Y56','Y57','Y58','Y59','Y60','Y61'], data_1, color='PINK', alpha=1)\n",
    "plt.grid(color='#95a5a6', linestyle='--', linewidth=3, axis='y', alpha=1)\n",
    "plt.title(' ปริมาณขยะมูลฝอยในแต่ละวันของทุกเขตรวมกันในปี 2553-2561',fontsize=20)\n",
    "plt.xlabel('ปี',fontsize=20)   \n",
    "plt.ylabel('ปริมาณขยะ',fontsize=20)\n",
    "plt.show()"
   ]
  },
  {
   "cell_type": "markdown",
   "metadata": {
    "colab_type": "text",
    "id": "DryEuD_OcDXp"
   },
   "source": [
    "<h2>**Question** ปริมาณขยะมูลฝอยในแต่ละปีของ 2553-2561 เขตใดที่มีการทิ้งขยะมากที่สุดในแต่ละปี</h2>"
   ]
  },
  {
   "cell_type": "code",
   "execution_count": 123,
   "metadata": {
    "colab": {
     "base_uri": "https://localhost:8080/",
     "height": 394
    },
    "colab_type": "code",
    "executionInfo": {
     "elapsed": 1185,
     "status": "ok",
     "timestamp": 1600274157732,
     "user": {
      "displayName": "Nuttiwut Ektarawong",
      "photoUrl": "",
      "userId": "04508521584322221843"
     },
     "user_tz": -420
    },
    "id": "PthLTnyfcEbx",
    "outputId": "e014a2af-7d40-44bb-be97-5d7bf34ad41e"
   },
   "outputs": [
    {
     "data": {
      "text/html": [
       "<div>\n",
       "<style scoped>\n",
       "    .dataframe tbody tr th:only-of-type {\n",
       "        vertical-align: middle;\n",
       "    }\n",
       "\n",
       "    .dataframe tbody tr th {\n",
       "        vertical-align: top;\n",
       "    }\n",
       "\n",
       "    .dataframe thead th {\n",
       "        text-align: right;\n",
       "    }\n",
       "</style>\n",
       "<table border=\"1\" class=\"dataframe\">\n",
       "  <thead>\n",
       "    <tr style=\"text-align: right;\">\n",
       "      <th></th>\n",
       "      <th>garbage53</th>\n",
       "      <th>garbage54</th>\n",
       "      <th>garbage55</th>\n",
       "      <th>garbage56</th>\n",
       "      <th>garbage57</th>\n",
       "      <th>garbage58</th>\n",
       "      <th>garbage59</th>\n",
       "      <th>garbage60</th>\n",
       "      <th>garbage61</th>\n",
       "    </tr>\n",
       "    <tr>\n",
       "      <th>dcode</th>\n",
       "      <th></th>\n",
       "      <th></th>\n",
       "      <th></th>\n",
       "      <th></th>\n",
       "      <th></th>\n",
       "      <th></th>\n",
       "      <th></th>\n",
       "      <th></th>\n",
       "      <th></th>\n",
       "    </tr>\n",
       "  </thead>\n",
       "  <tbody>\n",
       "    <tr>\n",
       "      <th>1000</th>\n",
       "      <td>189819.45</td>\n",
       "      <td>122869.76</td>\n",
       "      <td>133599.00</td>\n",
       "      <td>206932.0</td>\n",
       "      <td>210940.80</td>\n",
       "      <td>217247.09</td>\n",
       "      <td>199522.73</td>\n",
       "      <td>203794.98</td>\n",
       "      <td>219418.80</td>\n",
       "    </tr>\n",
       "    <tr>\n",
       "      <th>1001</th>\n",
       "      <td>69166.29</td>\n",
       "      <td>106149.08</td>\n",
       "      <td>119485.81</td>\n",
       "      <td>71844.4</td>\n",
       "      <td>69299.50</td>\n",
       "      <td>72019.02</td>\n",
       "      <td>70243.12</td>\n",
       "      <td>72998.93</td>\n",
       "      <td>71372.82</td>\n",
       "    </tr>\n",
       "    <tr>\n",
       "      <th>1002</th>\n",
       "      <td>62244.26</td>\n",
       "      <td>105379.61</td>\n",
       "      <td>116055.40</td>\n",
       "      <td>64255.4</td>\n",
       "      <td>62915.62</td>\n",
       "      <td>63580.71</td>\n",
       "      <td>63750.08</td>\n",
       "      <td>63331.79</td>\n",
       "      <td>62186.37</td>\n",
       "    </tr>\n",
       "    <tr>\n",
       "      <th>1003</th>\n",
       "      <td>32339.16</td>\n",
       "      <td>95059.04</td>\n",
       "      <td>97084.32</td>\n",
       "      <td>40386.7</td>\n",
       "      <td>58888.59</td>\n",
       "      <td>43111.42</td>\n",
       "      <td>43545.74</td>\n",
       "      <td>47922.93</td>\n",
       "      <td>50319.74</td>\n",
       "    </tr>\n",
       "    <tr>\n",
       "      <th>1004</th>\n",
       "      <td>54224.38</td>\n",
       "      <td>94655.76</td>\n",
       "      <td>100306.22</td>\n",
       "      <td>60767.8</td>\n",
       "      <td>94551.77</td>\n",
       "      <td>61746.75</td>\n",
       "      <td>58286.80</td>\n",
       "      <td>60973.16</td>\n",
       "      <td>56632.20</td>\n",
       "    </tr>\n",
       "    <tr>\n",
       "      <th>1005</th>\n",
       "      <td>85742.96</td>\n",
       "      <td>87370.03</td>\n",
       "      <td>98955.18</td>\n",
       "      <td>93232.5</td>\n",
       "      <td>119561.54</td>\n",
       "      <td>99176.79</td>\n",
       "      <td>102066.16</td>\n",
       "      <td>110318.20</td>\n",
       "      <td>112955.13</td>\n",
       "    </tr>\n",
       "    <tr>\n",
       "      <th>1006</th>\n",
       "      <td>101745.01</td>\n",
       "      <td>87276.00</td>\n",
       "      <td>92009.14</td>\n",
       "      <td>120589.0</td>\n",
       "      <td>102164.88</td>\n",
       "      <td>113420.03</td>\n",
       "      <td>106544.60</td>\n",
       "      <td>123596.09</td>\n",
       "      <td>124970.88</td>\n",
       "    </tr>\n",
       "    <tr>\n",
       "      <th>1007</th>\n",
       "      <td>75719.25</td>\n",
       "      <td>86006.01</td>\n",
       "      <td>94435.68</td>\n",
       "      <td>104379.0</td>\n",
       "      <td>30773.10</td>\n",
       "      <td>104085.17</td>\n",
       "      <td>30383.52</td>\n",
       "      <td>113038.70</td>\n",
       "      <td>111800.66</td>\n",
       "    </tr>\n",
       "    <tr>\n",
       "      <th>1008</th>\n",
       "      <td>32203.77</td>\n",
       "      <td>82532.46</td>\n",
       "      <td>99912.63</td>\n",
       "      <td>32474.1</td>\n",
       "      <td>56855.12</td>\n",
       "      <td>31207.79</td>\n",
       "      <td>117706.24</td>\n",
       "      <td>30650.17</td>\n",
       "      <td>29790.81</td>\n",
       "    </tr>\n",
       "    <tr>\n",
       "      <th>1009</th>\n",
       "      <td>48978.52</td>\n",
       "      <td>78200.31</td>\n",
       "      <td>87574.21</td>\n",
       "      <td>56903.1</td>\n",
       "      <td>43346.67</td>\n",
       "      <td>54404.30</td>\n",
       "      <td>53592.83</td>\n",
       "      <td>53853.74</td>\n",
       "      <td>53164.78</td>\n",
       "    </tr>\n",
       "  </tbody>\n",
       "</table>\n",
       "</div>"
      ],
      "text/plain": [
       "       garbage53  garbage54  garbage55  garbage56  garbage57  garbage58  \\\n",
       "dcode                                                                     \n",
       "1000   189819.45  122869.76  133599.00   206932.0  210940.80  217247.09   \n",
       "1001    69166.29  106149.08  119485.81    71844.4   69299.50   72019.02   \n",
       "1002    62244.26  105379.61  116055.40    64255.4   62915.62   63580.71   \n",
       "1003    32339.16   95059.04   97084.32    40386.7   58888.59   43111.42   \n",
       "1004    54224.38   94655.76  100306.22    60767.8   94551.77   61746.75   \n",
       "1005    85742.96   87370.03   98955.18    93232.5  119561.54   99176.79   \n",
       "1006   101745.01   87276.00   92009.14   120589.0  102164.88  113420.03   \n",
       "1007    75719.25   86006.01   94435.68   104379.0   30773.10  104085.17   \n",
       "1008    32203.77   82532.46   99912.63    32474.1   56855.12   31207.79   \n",
       "1009    48978.52   78200.31   87574.21    56903.1   43346.67   54404.30   \n",
       "\n",
       "       garbage59  garbage60  garbage61  \n",
       "dcode                                   \n",
       "1000   199522.73  203794.98  219418.80  \n",
       "1001    70243.12   72998.93   71372.82  \n",
       "1002    63750.08   63331.79   62186.37  \n",
       "1003    43545.74   47922.93   50319.74  \n",
       "1004    58286.80   60973.16   56632.20  \n",
       "1005   102066.16  110318.20  112955.13  \n",
       "1006   106544.60  123596.09  124970.88  \n",
       "1007    30383.52  113038.70  111800.66  \n",
       "1008   117706.24   30650.17   29790.81  \n",
       "1009    53592.83   53853.74   53164.78  "
      ]
     },
     "execution_count": 123,
     "metadata": {},
     "output_type": "execute_result"
    }
   ],
   "source": [
    "#run ตัว data.loc[2,'garbage55'] = 317.96*365 ใหม่ เพราะมีปัญหา\n",
    "data_2 = data[['dcode','garbage53','garbage54','garbage55','garbage56','garbage57','garbage58','garbage59','garbage60','garbage61']].groupby('dcode').sum()\n",
    "data_2.head(10)"
   ]
  },
  {
   "cell_type": "code",
   "execution_count": 124,
   "metadata": {
    "colab": {
     "base_uri": "https://localhost:8080/",
     "height": 237
    },
    "colab_type": "code",
    "executionInfo": {
     "elapsed": 696,
     "status": "ok",
     "timestamp": 1600273150118,
     "user": {
      "displayName": "Nuttiwut Ektarawong",
      "photoUrl": "",
      "userId": "04508521584322221843"
     },
     "user_tz": -420
    },
    "id": "Oa-B7X2wC_bv",
    "outputId": "306f1205-dd64-4d66-b63c-d59cfd09527a"
   },
   "outputs": [
    {
     "data": {
      "text/html": [
       "<div>\n",
       "<style scoped>\n",
       "    .dataframe tbody tr th:only-of-type {\n",
       "        vertical-align: middle;\n",
       "    }\n",
       "\n",
       "    .dataframe tbody tr th {\n",
       "        vertical-align: top;\n",
       "    }\n",
       "\n",
       "    .dataframe thead th {\n",
       "        text-align: right;\n",
       "    }\n",
       "</style>\n",
       "<table border=\"1\" class=\"dataframe\">\n",
       "  <thead>\n",
       "    <tr style=\"text-align: right;\">\n",
       "      <th></th>\n",
       "      <th>garbage53</th>\n",
       "    </tr>\n",
       "    <tr>\n",
       "      <th>dcode</th>\n",
       "      <th></th>\n",
       "    </tr>\n",
       "  </thead>\n",
       "  <tbody>\n",
       "    <tr>\n",
       "      <th>1046</th>\n",
       "      <td>45597.67</td>\n",
       "    </tr>\n",
       "    <tr>\n",
       "      <th>1047</th>\n",
       "      <td>66506.61</td>\n",
       "    </tr>\n",
       "    <tr>\n",
       "      <th>1048</th>\n",
       "      <td>32774.50</td>\n",
       "    </tr>\n",
       "    <tr>\n",
       "      <th>1049</th>\n",
       "      <td>41655.16</td>\n",
       "    </tr>\n",
       "    <tr>\n",
       "      <th>1050</th>\n",
       "      <td>68667.71</td>\n",
       "    </tr>\n",
       "  </tbody>\n",
       "</table>\n",
       "</div>"
      ],
      "text/plain": [
       "       garbage53\n",
       "dcode           \n",
       "1046    45597.67\n",
       "1047    66506.61\n",
       "1048    32774.50\n",
       "1049    41655.16\n",
       "1050    68667.71"
      ]
     },
     "execution_count": 124,
     "metadata": {},
     "output_type": "execute_result"
    }
   ],
   "source": [
    "#ทำออกมาแต่ละปีละสร้างกราฟหาว่าเขตไหนในแต่ละปีนั้นมีค่า garbageมากสุด\n",
    "#53 = year\n",
    "#ทุกrow แต่เอาcolumn 0 \n",
    "data_2_53 = data_2.iloc[:, [0],]\n",
    "data_2_53.tail()"
   ]
  },
  {
   "cell_type": "code",
   "execution_count": 125,
   "metadata": {
    "colab": {
     "base_uri": "https://localhost:8080/",
     "height": 538
    },
    "colab_type": "code",
    "executionInfo": {
     "elapsed": 1620,
     "status": "ok",
     "timestamp": 1600273395233,
     "user": {
      "displayName": "Nuttiwut Ektarawong",
      "photoUrl": "",
      "userId": "04508521584322221843"
     },
     "user_tz": -420
    },
    "id": "2bl7SgsBCokz",
    "outputId": "48615b70-b99a-4432-88f4-91c8c2376e65"
   },
   "outputs": [
    {
     "data": {
      "text/plain": [
       "Text(0, 0.5, 'ปริมาณขยะ')"
      ]
     },
     "execution_count": 125,
     "metadata": {},
     "output_type": "execute_result"
    },
    {
     "data": {
      "image/png": "[encoded data removed]",
      "text/plain": [
       "<Figure size 1080x576 with 1 Axes>"
      ]
     },
     "metadata": {
      "needs_background": "light"
     },
     "output_type": "display_data"
    }
   ],
   "source": [
    "data_2_53.plot.bar( alpha=1,color='pink',figsize=(15,8))\n",
    "plt.legend(title = 'ปริมาณขยะมูลฝอย' ,fontsize=14,title_fontsize=14)\n",
    "plt.grid(color='#95a5a6', linestyle='--', linewidth=3, axis='y', alpha=1)\n",
    "plt.title('ปริมาณขยะมูลฝอยของแต่ละเขต 50 เขต ปี2553',fontsize=20)\n",
    "plt.xlabel('เขต',fontsize=20)   \n",
    "plt.ylabel('ปริมาณขยะ',fontsize=20)"
   ]
  },
  {
   "cell_type": "code",
   "execution_count": 126,
   "metadata": {
    "colab": {
     "base_uri": "https://localhost:8080/",
     "height": 237
    },
    "colab_type": "code",
    "executionInfo": {
     "elapsed": 776,
     "status": "ok",
     "timestamp": 1600273198232,
     "user": {
      "displayName": "Nuttiwut Ektarawong",
      "photoUrl": "",
      "userId": "04508521584322221843"
     },
     "user_tz": -420
    },
    "id": "3uA1kgGXG62Q",
    "outputId": "98459bfe-0428-4a24-e175-70f7bcd2790b"
   },
   "outputs": [
    {
     "data": {
      "text/html": [
       "<div>\n",
       "<style scoped>\n",
       "    .dataframe tbody tr th:only-of-type {\n",
       "        vertical-align: middle;\n",
       "    }\n",
       "\n",
       "    .dataframe tbody tr th {\n",
       "        vertical-align: top;\n",
       "    }\n",
       "\n",
       "    .dataframe thead th {\n",
       "        text-align: right;\n",
       "    }\n",
       "</style>\n",
       "<table border=\"1\" class=\"dataframe\">\n",
       "  <thead>\n",
       "    <tr style=\"text-align: right;\">\n",
       "      <th></th>\n",
       "      <th>garbage54</th>\n",
       "    </tr>\n",
       "    <tr>\n",
       "      <th>dcode</th>\n",
       "      <th></th>\n",
       "    </tr>\n",
       "  </thead>\n",
       "  <tbody>\n",
       "    <tr>\n",
       "      <th>1000</th>\n",
       "      <td>122869.76</td>\n",
       "    </tr>\n",
       "    <tr>\n",
       "      <th>1001</th>\n",
       "      <td>106149.08</td>\n",
       "    </tr>\n",
       "    <tr>\n",
       "      <th>1002</th>\n",
       "      <td>105379.61</td>\n",
       "    </tr>\n",
       "    <tr>\n",
       "      <th>1003</th>\n",
       "      <td>95059.04</td>\n",
       "    </tr>\n",
       "    <tr>\n",
       "      <th>1004</th>\n",
       "      <td>94655.76</td>\n",
       "    </tr>\n",
       "  </tbody>\n",
       "</table>\n",
       "</div>"
      ],
      "text/plain": [
       "       garbage54\n",
       "dcode           \n",
       "1000   122869.76\n",
       "1001   106149.08\n",
       "1002   105379.61\n",
       "1003    95059.04\n",
       "1004    94655.76"
      ]
     },
     "execution_count": 126,
     "metadata": {},
     "output_type": "execute_result"
    }
   ],
   "source": [
    "data_2_54 = data_2.iloc[:, [1],]\n",
    "data_2_54.head()"
   ]
  },
  {
   "cell_type": "code",
   "execution_count": 127,
   "metadata": {
    "colab": {
     "base_uri": "https://localhost:8080/",
     "height": 538
    },
    "colab_type": "code",
    "executionInfo": {
     "elapsed": 1542,
     "status": "ok",
     "timestamp": 1600273375631,
     "user": {
      "displayName": "Nuttiwut Ektarawong",
      "photoUrl": "",
      "userId": "04508521584322221843"
     },
     "user_tz": -420
    },
    "id": "yDiER-pJG66x",
    "outputId": "3f760b50-7460-4b62-ec8c-a571e3232174"
   },
   "outputs": [
    {
     "data": {
      "text/plain": [
       "Text(0, 0.5, 'ปริมาณขยะ')"
      ]
     },
     "execution_count": 127,
     "metadata": {},
     "output_type": "execute_result"
    },
    {
     "data": {
      "image/png": "[encoded data removed]",
      "text/plain": [
       "<Figure size 1080x576 with 1 Axes>"
      ]
     },
     "metadata": {
      "needs_background": "light"
     },
     "output_type": "display_data"
    }
   ],
   "source": [
    "data_2_54.plot.bar( alpha=1,color='yellow',figsize=(15,8))\n",
    "plt.legend(title = 'ปริมาณขยะมูลฝอย' ,fontsize=14,title_fontsize=14)\n",
    "plt.grid(color='#95a5a6', linestyle='--', linewidth=3, axis='y', alpha=1)\n",
    "plt.title('ปริมาณขยะมูลฝอยของแต่ละเขต 50 เขต ปี2554',fontsize=20)\n",
    "plt.xlabel('เขต',fontsize=20)   \n",
    "plt.ylabel('ปริมาณขยะ',fontsize=20)"
   ]
  },
  {
   "cell_type": "code",
   "execution_count": 128,
   "metadata": {
    "colab": {
     "base_uri": "https://localhost:8080/",
     "height": 237
    },
    "colab_type": "code",
    "executionInfo": {
     "elapsed": 991,
     "status": "ok",
     "timestamp": 1600273235342,
     "user": {
      "displayName": "Nuttiwut Ektarawong",
      "photoUrl": "",
      "userId": "04508521584322221843"
     },
     "user_tz": -420
    },
    "id": "Z9jqYutFt4js",
    "outputId": "96bc7ff6-e27e-4db3-a555-4866f9507693"
   },
   "outputs": [
    {
     "data": {
      "text/html": [
       "<div>\n",
       "<style scoped>\n",
       "    .dataframe tbody tr th:only-of-type {\n",
       "        vertical-align: middle;\n",
       "    }\n",
       "\n",
       "    .dataframe tbody tr th {\n",
       "        vertical-align: top;\n",
       "    }\n",
       "\n",
       "    .dataframe thead th {\n",
       "        text-align: right;\n",
       "    }\n",
       "</style>\n",
       "<table border=\"1\" class=\"dataframe\">\n",
       "  <thead>\n",
       "    <tr style=\"text-align: right;\">\n",
       "      <th></th>\n",
       "      <th>garbage55</th>\n",
       "    </tr>\n",
       "    <tr>\n",
       "      <th>dcode</th>\n",
       "      <th></th>\n",
       "    </tr>\n",
       "  </thead>\n",
       "  <tbody>\n",
       "    <tr>\n",
       "      <th>1000</th>\n",
       "      <td>133599.00</td>\n",
       "    </tr>\n",
       "    <tr>\n",
       "      <th>1001</th>\n",
       "      <td>119485.81</td>\n",
       "    </tr>\n",
       "    <tr>\n",
       "      <th>1002</th>\n",
       "      <td>116055.40</td>\n",
       "    </tr>\n",
       "    <tr>\n",
       "      <th>1003</th>\n",
       "      <td>97084.32</td>\n",
       "    </tr>\n",
       "    <tr>\n",
       "      <th>1004</th>\n",
       "      <td>100306.22</td>\n",
       "    </tr>\n",
       "  </tbody>\n",
       "</table>\n",
       "</div>"
      ],
      "text/plain": [
       "       garbage55\n",
       "dcode           \n",
       "1000   133599.00\n",
       "1001   119485.81\n",
       "1002   116055.40\n",
       "1003    97084.32\n",
       "1004   100306.22"
      ]
     },
     "execution_count": 128,
     "metadata": {},
     "output_type": "execute_result"
    }
   ],
   "source": [
    "data_2_55 = data_2.iloc[:, [2],]\n",
    "data_2_55.head()"
   ]
  },
  {
   "cell_type": "code",
   "execution_count": 129,
   "metadata": {
    "colab": {
     "base_uri": "https://localhost:8080/",
     "height": 538
    },
    "colab_type": "code",
    "executionInfo": {
     "elapsed": 2032,
     "status": "ok",
     "timestamp": 1600273493110,
     "user": {
      "displayName": "Nuttiwut Ektarawong",
      "photoUrl": "",
      "userId": "04508521584322221843"
     },
     "user_tz": -420
    },
    "id": "rAl-RXmDuKAd",
    "outputId": "f51cce42-22ed-48ae-d4dc-36d22b337353"
   },
   "outputs": [
    {
     "data": {
      "text/plain": [
       "Text(0, 0.5, 'ปริมาณขยะ')"
      ]
     },
     "execution_count": 129,
     "metadata": {},
     "output_type": "execute_result"
    },
    {
     "data": {
      "image/png": "[encoded data removed]",
      "text/plain": [
       "<Figure size 1080x576 with 1 Axes>"
      ]
     },
     "metadata": {
      "needs_background": "light"
     },
     "output_type": "display_data"
    }
   ],
   "source": [
    "data_2_55.plot.bar( alpha=1,color='blue',figsize=(15,8))\n",
    "plt.legend(title = 'ปริมาณขยะมูลฝอย' ,fontsize=14,title_fontsize=14)\n",
    "plt.grid(color='#95a5a6', linestyle='--', linewidth=3, axis='y', alpha=1)\n",
    "plt.title('ปริมาณขยะมูลฝอยของแต่ละเขต 50 เขต ปี2555',fontsize=20)\n",
    "plt.xlabel('เขต',fontsize=20)   \n",
    "plt.ylabel('ปริมาณขยะ',fontsize=20)"
   ]
  },
  {
   "cell_type": "code",
   "execution_count": 130,
   "metadata": {},
   "outputs": [
    {
     "data": {
      "text/html": [
       "<div>\n",
       "<style scoped>\n",
       "    .dataframe tbody tr th:only-of-type {\n",
       "        vertical-align: middle;\n",
       "    }\n",
       "\n",
       "    .dataframe tbody tr th {\n",
       "        vertical-align: top;\n",
       "    }\n",
       "\n",
       "    .dataframe thead th {\n",
       "        text-align: right;\n",
       "    }\n",
       "</style>\n",
       "<table border=\"1\" class=\"dataframe\">\n",
       "  <thead>\n",
       "    <tr style=\"text-align: right;\">\n",
       "      <th></th>\n",
       "      <th>garbage56</th>\n",
       "    </tr>\n",
       "    <tr>\n",
       "      <th>dcode</th>\n",
       "      <th></th>\n",
       "    </tr>\n",
       "  </thead>\n",
       "  <tbody>\n",
       "    <tr>\n",
       "      <th>1000</th>\n",
       "      <td>206932.0</td>\n",
       "    </tr>\n",
       "    <tr>\n",
       "      <th>1001</th>\n",
       "      <td>71844.4</td>\n",
       "    </tr>\n",
       "    <tr>\n",
       "      <th>1002</th>\n",
       "      <td>64255.4</td>\n",
       "    </tr>\n",
       "    <tr>\n",
       "      <th>1003</th>\n",
       "      <td>40386.7</td>\n",
       "    </tr>\n",
       "    <tr>\n",
       "      <th>1004</th>\n",
       "      <td>60767.8</td>\n",
       "    </tr>\n",
       "  </tbody>\n",
       "</table>\n",
       "</div>"
      ],
      "text/plain": [
       "       garbage56\n",
       "dcode           \n",
       "1000    206932.0\n",
       "1001     71844.4\n",
       "1002     64255.4\n",
       "1003     40386.7\n",
       "1004     60767.8"
      ]
     },
     "execution_count": 130,
     "metadata": {},
     "output_type": "execute_result"
    }
   ],
   "source": [
    "data_2_56 = data_2.iloc[:, [3],]\n",
    "data_2_56.head()"
   ]
  },
  {
   "cell_type": "code",
   "execution_count": 131,
   "metadata": {
    "colab": {
     "base_uri": "https://localhost:8080/",
     "height": 538
    },
    "colab_type": "code",
    "executionInfo": {
     "elapsed": 1814,
     "status": "ok",
     "timestamp": 1600273861171,
     "user": {
      "displayName": "Nuttiwut Ektarawong",
      "photoUrl": "",
      "userId": "04508521584322221843"
     },
     "user_tz": -420
    },
    "id": "zbTJFiZ8uKH5",
    "outputId": "cf3502fa-ea3a-4b5e-ca53-a12da510352f"
   },
   "outputs": [
    {
     "data": {
      "text/plain": [
       "Text(0, 0.5, 'ปริมาณขยะ')"
      ]
     },
     "execution_count": 131,
     "metadata": {},
     "output_type": "execute_result"
    },
    {
     "data": {
      "image/png": "[encoded data removed]",
      "text/plain": [
       "<Figure size 1080x576 with 1 Axes>"
      ]
     },
     "metadata": {
      "needs_background": "light"
     },
     "output_type": "display_data"
    }
   ],
   "source": [
    "data_2_56.plot.bar( alpha=1,color='orange',figsize=(15,8))\n",
    "plt.legend(title = 'ปริมาณขยะมูลฝอย' ,fontsize=14,title_fontsize=14)\n",
    "plt.grid(color='#95a5a6', linestyle='--', linewidth=3, axis='y', alpha=1)\n",
    "plt.title('ปริมาณขยะมูลฝอยของแต่ละเขต 50 เขต ปี2556',fontsize=20)\n",
    "plt.xlabel('เขต',fontsize=20)   \n",
    "plt.ylabel('ปริมาณขยะ',fontsize=20)"
   ]
  },
  {
   "cell_type": "code",
   "execution_count": 132,
   "metadata": {},
   "outputs": [
    {
     "data": {
      "text/html": [
       "<div>\n",
       "<style scoped>\n",
       "    .dataframe tbody tr th:only-of-type {\n",
       "        vertical-align: middle;\n",
       "    }\n",
       "\n",
       "    .dataframe tbody tr th {\n",
       "        vertical-align: top;\n",
       "    }\n",
       "\n",
       "    .dataframe thead th {\n",
       "        text-align: right;\n",
       "    }\n",
       "</style>\n",
       "<table border=\"1\" class=\"dataframe\">\n",
       "  <thead>\n",
       "    <tr style=\"text-align: right;\">\n",
       "      <th></th>\n",
       "      <th>garbage57</th>\n",
       "    </tr>\n",
       "    <tr>\n",
       "      <th>dcode</th>\n",
       "      <th></th>\n",
       "    </tr>\n",
       "  </thead>\n",
       "  <tbody>\n",
       "    <tr>\n",
       "      <th>1000</th>\n",
       "      <td>210940.80</td>\n",
       "    </tr>\n",
       "    <tr>\n",
       "      <th>1001</th>\n",
       "      <td>69299.50</td>\n",
       "    </tr>\n",
       "    <tr>\n",
       "      <th>1002</th>\n",
       "      <td>62915.62</td>\n",
       "    </tr>\n",
       "    <tr>\n",
       "      <th>1003</th>\n",
       "      <td>58888.59</td>\n",
       "    </tr>\n",
       "    <tr>\n",
       "      <th>1004</th>\n",
       "      <td>94551.77</td>\n",
       "    </tr>\n",
       "  </tbody>\n",
       "</table>\n",
       "</div>"
      ],
      "text/plain": [
       "       garbage57\n",
       "dcode           \n",
       "1000   210940.80\n",
       "1001    69299.50\n",
       "1002    62915.62\n",
       "1003    58888.59\n",
       "1004    94551.77"
      ]
     },
     "execution_count": 132,
     "metadata": {},
     "output_type": "execute_result"
    }
   ],
   "source": [
    "data_2_57 = data_2.iloc[:, [4],]\n",
    "data_2_57.head()"
   ]
  },
  {
   "cell_type": "code",
   "execution_count": 133,
   "metadata": {
    "colab": {
     "base_uri": "https://localhost:8080/",
     "height": 538
    },
    "colab_type": "code",
    "executionInfo": {
     "elapsed": 1454,
     "status": "ok",
     "timestamp": 1600273955299,
     "user": {
      "displayName": "Nuttiwut Ektarawong",
      "photoUrl": "",
      "userId": "04508521584322221843"
     },
     "user_tz": -420
    },
    "id": "moYhbwwwwYfo",
    "outputId": "8e64f163-1ebf-4e12-a0e4-cd4188054115"
   },
   "outputs": [
    {
     "data": {
      "text/plain": [
       "Text(0, 0.5, 'ปริมาณขยะ')"
      ]
     },
     "execution_count": 133,
     "metadata": {},
     "output_type": "execute_result"
    },
    {
     "data": {
      "image/png": "[encoded data removed]",
      "text/plain": [
       "<Figure size 1080x576 with 1 Axes>"
      ]
     },
     "metadata": {
      "needs_background": "light"
     },
     "output_type": "display_data"
    }
   ],
   "source": [
    "data_2_57.plot.bar( alpha=1,color='black',figsize=(15,8))\n",
    "plt.legend(title = 'ปริมาณขยะมูลฝอย' ,fontsize=14,title_fontsize=14)\n",
    "plt.grid(color='#95a5a6', linestyle='--', linewidth=3, axis='y', alpha=1)\n",
    "plt.title('ปริมาณขยะมูลฝอยของแต่ละเขต 50 เขต ปี2557',fontsize=20)\n",
    "plt.xlabel('เขต',fontsize=20)   \n",
    "plt.ylabel('ปริมาณขยะ',fontsize=20)"
   ]
  },
  {
   "cell_type": "code",
   "execution_count": 134,
   "metadata": {},
   "outputs": [
    {
     "data": {
      "text/html": [
       "<div>\n",
       "<style scoped>\n",
       "    .dataframe tbody tr th:only-of-type {\n",
       "        vertical-align: middle;\n",
       "    }\n",
       "\n",
       "    .dataframe tbody tr th {\n",
       "        vertical-align: top;\n",
       "    }\n",
       "\n",
       "    .dataframe thead th {\n",
       "        text-align: right;\n",
       "    }\n",
       "</style>\n",
       "<table border=\"1\" class=\"dataframe\">\n",
       "  <thead>\n",
       "    <tr style=\"text-align: right;\">\n",
       "      <th></th>\n",
       "      <th>garbage58</th>\n",
       "    </tr>\n",
       "    <tr>\n",
       "      <th>dcode</th>\n",
       "      <th></th>\n",
       "    </tr>\n",
       "  </thead>\n",
       "  <tbody>\n",
       "    <tr>\n",
       "      <th>1000</th>\n",
       "      <td>217247.09</td>\n",
       "    </tr>\n",
       "    <tr>\n",
       "      <th>1001</th>\n",
       "      <td>72019.02</td>\n",
       "    </tr>\n",
       "    <tr>\n",
       "      <th>1002</th>\n",
       "      <td>63580.71</td>\n",
       "    </tr>\n",
       "    <tr>\n",
       "      <th>1003</th>\n",
       "      <td>43111.42</td>\n",
       "    </tr>\n",
       "    <tr>\n",
       "      <th>1004</th>\n",
       "      <td>61746.75</td>\n",
       "    </tr>\n",
       "  </tbody>\n",
       "</table>\n",
       "</div>"
      ],
      "text/plain": [
       "       garbage58\n",
       "dcode           \n",
       "1000   217247.09\n",
       "1001    72019.02\n",
       "1002    63580.71\n",
       "1003    43111.42\n",
       "1004    61746.75"
      ]
     },
     "execution_count": 134,
     "metadata": {},
     "output_type": "execute_result"
    }
   ],
   "source": [
    "data_2_58 = data_2.iloc[:, [5],]\n",
    "data_2_58.head()"
   ]
  },
  {
   "cell_type": "code",
   "execution_count": 135,
   "metadata": {
    "colab": {
     "base_uri": "https://localhost:8080/",
     "height": 538
    },
    "colab_type": "code",
    "executionInfo": {
     "elapsed": 1745,
     "status": "ok",
     "timestamp": 1600274319845,
     "user": {
      "displayName": "Nuttiwut Ektarawong",
      "photoUrl": "",
      "userId": "04508521584322221843"
     },
     "user_tz": -420
    },
    "id": "WSedZBe6uKKs",
    "outputId": "a9aa2e91-facf-4255-a527-ad56141ac342"
   },
   "outputs": [
    {
     "data": {
      "text/plain": [
       "Text(0, 0.5, 'ปริมาณขยะ')"
      ]
     },
     "execution_count": 135,
     "metadata": {},
     "output_type": "execute_result"
    },
    {
     "data": {
      "image/png": "[encoded data removed]",
      "text/plain": [
       "<Figure size 1080x576 with 1 Axes>"
      ]
     },
     "metadata": {
      "needs_background": "light"
     },
     "output_type": "display_data"
    }
   ],
   "source": [
    "# data_2_58 = data_2.iloc[:, [5],]\n",
    "# data_2_58.head()\n",
    "data_2_58.plot.bar( alpha=1,color='green',figsize=(15,8))\n",
    "plt.legend(title = 'ปริมาณขยะมูลฝอย' ,fontsize=14,title_fontsize=14)\n",
    "plt.grid(color='#95a5a6', linestyle='--', linewidth=3, axis='y', alpha=1)\n",
    "plt.title('ปริมาณขยะมูลฝอยของแต่ละเขต 50 เขต ปี2558',fontsize=20)\n",
    "plt.xlabel('เขต',fontsize=20)   \n",
    "plt.ylabel('ปริมาณขยะ',fontsize=20)"
   ]
  },
  {
   "cell_type": "code",
   "execution_count": 136,
   "metadata": {},
   "outputs": [
    {
     "data": {
      "text/html": [
       "<div>\n",
       "<style scoped>\n",
       "    .dataframe tbody tr th:only-of-type {\n",
       "        vertical-align: middle;\n",
       "    }\n",
       "\n",
       "    .dataframe tbody tr th {\n",
       "        vertical-align: top;\n",
       "    }\n",
       "\n",
       "    .dataframe thead th {\n",
       "        text-align: right;\n",
       "    }\n",
       "</style>\n",
       "<table border=\"1\" class=\"dataframe\">\n",
       "  <thead>\n",
       "    <tr style=\"text-align: right;\">\n",
       "      <th></th>\n",
       "      <th>garbage59</th>\n",
       "    </tr>\n",
       "    <tr>\n",
       "      <th>dcode</th>\n",
       "      <th></th>\n",
       "    </tr>\n",
       "  </thead>\n",
       "  <tbody>\n",
       "    <tr>\n",
       "      <th>1000</th>\n",
       "      <td>199522.73</td>\n",
       "    </tr>\n",
       "    <tr>\n",
       "      <th>1001</th>\n",
       "      <td>70243.12</td>\n",
       "    </tr>\n",
       "    <tr>\n",
       "      <th>1002</th>\n",
       "      <td>63750.08</td>\n",
       "    </tr>\n",
       "    <tr>\n",
       "      <th>1003</th>\n",
       "      <td>43545.74</td>\n",
       "    </tr>\n",
       "    <tr>\n",
       "      <th>1004</th>\n",
       "      <td>58286.80</td>\n",
       "    </tr>\n",
       "  </tbody>\n",
       "</table>\n",
       "</div>"
      ],
      "text/plain": [
       "       garbage59\n",
       "dcode           \n",
       "1000   199522.73\n",
       "1001    70243.12\n",
       "1002    63750.08\n",
       "1003    43545.74\n",
       "1004    58286.80"
      ]
     },
     "execution_count": 136,
     "metadata": {},
     "output_type": "execute_result"
    }
   ],
   "source": [
    "data_2_59 = data_2.iloc[:, [6],]\n",
    "data_2_59.head()"
   ]
  },
  {
   "cell_type": "code",
   "execution_count": 137,
   "metadata": {
    "colab": {
     "base_uri": "https://localhost:8080/",
     "height": 538
    },
    "colab_type": "code",
    "executionInfo": {
     "elapsed": 2067,
     "status": "ok",
     "timestamp": 1600274413589,
     "user": {
      "displayName": "Nuttiwut Ektarawong",
      "photoUrl": "",
      "userId": "04508521584322221843"
     },
     "user_tz": -420
    },
    "id": "_IB1ZGjzuKNR",
    "outputId": "7e350646-562a-4371-ee9f-557c7b0bb6dd"
   },
   "outputs": [
    {
     "data": {
      "text/plain": [
       "Text(0, 0.5, 'ปริมาณขยะ')"
      ]
     },
     "execution_count": 137,
     "metadata": {},
     "output_type": "execute_result"
    },
    {
     "data": {
      "image/png": "[encoded data removed]",
      "text/plain": [
       "<Figure size 1080x576 with 1 Axes>"
      ]
     },
     "metadata": {
      "needs_background": "light"
     },
     "output_type": "display_data"
    }
   ],
   "source": [
    "# data_2_59 = data_2.iloc[:, [6],]\n",
    "# data_2_59.head()\n",
    "data_2_59.plot.bar( alpha=1,color='red',figsize=(15,8))\n",
    "plt.legend(title = 'ปริมาณขยะมูลฝอย' ,fontsize=14,title_fontsize=14)\n",
    "plt.grid(color='#95a5a6', linestyle='--', linewidth=3, axis='y', alpha=1)\n",
    "plt.title('ปริมาณขยะมูลฝอยของแต่ละเขต 50 เขต ปี2559',fontsize=20)\n",
    "plt.xlabel('เขต',fontsize=20)   \n",
    "plt.ylabel('ปริมาณขยะ',fontsize=20)"
   ]
  },
  {
   "cell_type": "code",
   "execution_count": 138,
   "metadata": {},
   "outputs": [
    {
     "data": {
      "text/html": [
       "<div>\n",
       "<style scoped>\n",
       "    .dataframe tbody tr th:only-of-type {\n",
       "        vertical-align: middle;\n",
       "    }\n",
       "\n",
       "    .dataframe tbody tr th {\n",
       "        vertical-align: top;\n",
       "    }\n",
       "\n",
       "    .dataframe thead th {\n",
       "        text-align: right;\n",
       "    }\n",
       "</style>\n",
       "<table border=\"1\" class=\"dataframe\">\n",
       "  <thead>\n",
       "    <tr style=\"text-align: right;\">\n",
       "      <th></th>\n",
       "      <th>garbage60</th>\n",
       "    </tr>\n",
       "    <tr>\n",
       "      <th>dcode</th>\n",
       "      <th></th>\n",
       "    </tr>\n",
       "  </thead>\n",
       "  <tbody>\n",
       "    <tr>\n",
       "      <th>1000</th>\n",
       "      <td>203794.98</td>\n",
       "    </tr>\n",
       "    <tr>\n",
       "      <th>1001</th>\n",
       "      <td>72998.93</td>\n",
       "    </tr>\n",
       "    <tr>\n",
       "      <th>1002</th>\n",
       "      <td>63331.79</td>\n",
       "    </tr>\n",
       "    <tr>\n",
       "      <th>1003</th>\n",
       "      <td>47922.93</td>\n",
       "    </tr>\n",
       "    <tr>\n",
       "      <th>1004</th>\n",
       "      <td>60973.16</td>\n",
       "    </tr>\n",
       "  </tbody>\n",
       "</table>\n",
       "</div>"
      ],
      "text/plain": [
       "       garbage60\n",
       "dcode           \n",
       "1000   203794.98\n",
       "1001    72998.93\n",
       "1002    63331.79\n",
       "1003    47922.93\n",
       "1004    60973.16"
      ]
     },
     "execution_count": 138,
     "metadata": {},
     "output_type": "execute_result"
    }
   ],
   "source": [
    "data_2_60 = data_2.iloc[:, [7],]\n",
    "data_2_60.head()"
   ]
  },
  {
   "cell_type": "code",
   "execution_count": 139,
   "metadata": {
    "colab": {
     "base_uri": "https://localhost:8080/",
     "height": 538
    },
    "colab_type": "code",
    "executionInfo": {
     "elapsed": 1827,
     "status": "ok",
     "timestamp": 1600274474994,
     "user": {
      "displayName": "Nuttiwut Ektarawong",
      "photoUrl": "",
      "userId": "04508521584322221843"
     },
     "user_tz": -420
    },
    "id": "fvK1EmoLuKP3",
    "outputId": "aff789c9-e6c6-4251-9a35-0f9bd9ec9470"
   },
   "outputs": [
    {
     "data": {
      "text/plain": [
       "Text(0, 0.5, 'ปริมาณขยะ')"
      ]
     },
     "execution_count": 139,
     "metadata": {},
     "output_type": "execute_result"
    },
    {
     "data": {
      "image/png": "[encoded data removed]",
      "text/plain": [
       "<Figure size 1080x576 with 1 Axes>"
      ]
     },
     "metadata": {
      "needs_background": "light"
     },
     "output_type": "display_data"
    }
   ],
   "source": [
    "# data_2_60 = data_2.iloc[:, [7],]\n",
    "# data_2_60.head()\n",
    "data_2_60.plot.bar( alpha=1,color='purple',figsize=(15,8))\n",
    "plt.legend(title = 'ปริมาณขยะมูลฝอย' ,fontsize=14,title_fontsize=14)\n",
    "plt.grid(color='#95a5a6', linestyle='--', linewidth=3, axis='y', alpha=1)\n",
    "plt.title('ปริมาณขยะมูลฝอยของแต่ละเขต 50 เขต ปี2560',fontsize=20)\n",
    "plt.xlabel('เขต',fontsize=20)   \n",
    "plt.ylabel('ปริมาณขยะ',fontsize=20)"
   ]
  },
  {
   "cell_type": "code",
   "execution_count": 140,
   "metadata": {},
   "outputs": [
    {
     "data": {
      "text/html": [
       "<div>\n",
       "<style scoped>\n",
       "    .dataframe tbody tr th:only-of-type {\n",
       "        vertical-align: middle;\n",
       "    }\n",
       "\n",
       "    .dataframe tbody tr th {\n",
       "        vertical-align: top;\n",
       "    }\n",
       "\n",
       "    .dataframe thead th {\n",
       "        text-align: right;\n",
       "    }\n",
       "</style>\n",
       "<table border=\"1\" class=\"dataframe\">\n",
       "  <thead>\n",
       "    <tr style=\"text-align: right;\">\n",
       "      <th></th>\n",
       "      <th>garbage61</th>\n",
       "    </tr>\n",
       "    <tr>\n",
       "      <th>dcode</th>\n",
       "      <th></th>\n",
       "    </tr>\n",
       "  </thead>\n",
       "  <tbody>\n",
       "    <tr>\n",
       "      <th>1000</th>\n",
       "      <td>219418.80</td>\n",
       "    </tr>\n",
       "    <tr>\n",
       "      <th>1001</th>\n",
       "      <td>71372.82</td>\n",
       "    </tr>\n",
       "    <tr>\n",
       "      <th>1002</th>\n",
       "      <td>62186.37</td>\n",
       "    </tr>\n",
       "    <tr>\n",
       "      <th>1003</th>\n",
       "      <td>50319.74</td>\n",
       "    </tr>\n",
       "    <tr>\n",
       "      <th>1004</th>\n",
       "      <td>56632.20</td>\n",
       "    </tr>\n",
       "  </tbody>\n",
       "</table>\n",
       "</div>"
      ],
      "text/plain": [
       "       garbage61\n",
       "dcode           \n",
       "1000   219418.80\n",
       "1001    71372.82\n",
       "1002    62186.37\n",
       "1003    50319.74\n",
       "1004    56632.20"
      ]
     },
     "execution_count": 140,
     "metadata": {},
     "output_type": "execute_result"
    }
   ],
   "source": [
    "data_2_61 = data_2.iloc[:, [8],]\n",
    "data_2_61.head()"
   ]
  },
  {
   "cell_type": "code",
   "execution_count": 141,
   "metadata": {
    "colab": {
     "base_uri": "https://localhost:8080/",
     "height": 538
    },
    "colab_type": "code",
    "executionInfo": {
     "elapsed": 1863,
     "status": "ok",
     "timestamp": 1600274734464,
     "user": {
      "displayName": "Nuttiwut Ektarawong",
      "photoUrl": "",
      "userId": "04508521584322221843"
     },
     "user_tz": -420
    },
    "id": "F_Fph7ZruKSN",
    "outputId": "f8fcc569-09b8-42f5-aaf7-b764bad25d1b"
   },
   "outputs": [
    {
     "data": {
      "text/plain": [
       "Text(0, 0.5, 'ปริมาณขยะ')"
      ]
     },
     "execution_count": 141,
     "metadata": {},
     "output_type": "execute_result"
    },
    {
     "data": {
      "image/png": "[encoded data removed]",
      "text/plain": [
       "<Figure size 1080x576 with 1 Axes>"
      ]
     },
     "metadata": {
      "needs_background": "light"
     },
     "output_type": "display_data"
    }
   ],
   "source": [
    "# data_2_61 = data_2.iloc[:, [8],]\n",
    "# data_2_61.head()\n",
    "data_2_61.plot.bar( alpha=1,color='brown',figsize=(15,8))\n",
    "plt.legend(title = 'ปริมาณขยะมูลฝอย' ,fontsize=14,title_fontsize=14)\n",
    "plt.grid(color='#95a5a6', linestyle='--', linewidth=2, axis='y', alpha=1)\n",
    "plt.title('ปริมาณขยะมูลฝอยของแต่ละเขต 50 เขต ปี2561',fontsize=20)\n",
    "plt.xlabel('เขต',fontsize=20)   \n",
    "plt.ylabel('ปริมาณขยะ',fontsize=20)"
   ]
  },
  {
   "cell_type": "markdown",
   "metadata": {
    "colab_type": "text",
    "id": "B8tqDCJU1LFr"
   },
   "source": [
    "<h2>**Question 3** เขตใดมีปริมาณขยะน้อยที่สุด โดยการนำปริมาณขยะต่อปีของทุกปี 2553 -2561 มารวมกัน\n",
    "</h2>"
   ]
  },
  {
   "cell_type": "code",
   "execution_count": 142,
   "metadata": {},
   "outputs": [
    {
     "data": {
      "text/html": [
       "<div>\n",
       "<style scoped>\n",
       "    .dataframe tbody tr th:only-of-type {\n",
       "        vertical-align: middle;\n",
       "    }\n",
       "\n",
       "    .dataframe tbody tr th {\n",
       "        vertical-align: top;\n",
       "    }\n",
       "\n",
       "    .dataframe thead th {\n",
       "        text-align: right;\n",
       "    }\n",
       "</style>\n",
       "<table border=\"1\" class=\"dataframe\">\n",
       "  <thead>\n",
       "    <tr style=\"text-align: right;\">\n",
       "      <th></th>\n",
       "      <th>dcode</th>\n",
       "      <th>garbage53</th>\n",
       "      <th>garbageperday53</th>\n",
       "      <th>garbage54</th>\n",
       "      <th>garbageperday54</th>\n",
       "      <th>garbage55</th>\n",
       "      <th>garbageperday55</th>\n",
       "      <th>garbage56</th>\n",
       "      <th>garbageperday56</th>\n",
       "      <th>garbage57</th>\n",
       "      <th>garbageperday57</th>\n",
       "      <th>garbage58</th>\n",
       "      <th>garbageperday58</th>\n",
       "      <th>garbage59</th>\n",
       "      <th>garbageperday59</th>\n",
       "      <th>garbage60</th>\n",
       "      <th>garbageperday60</th>\n",
       "      <th>garbage61</th>\n",
       "      <th>garbageperday61</th>\n",
       "    </tr>\n",
       "  </thead>\n",
       "  <tbody>\n",
       "    <tr>\n",
       "      <th>0</th>\n",
       "      <td>1000</td>\n",
       "      <td>189819.45</td>\n",
       "      <td>520.05</td>\n",
       "      <td>122869.76</td>\n",
       "      <td>336.63</td>\n",
       "      <td>133599.00</td>\n",
       "      <td>365.02</td>\n",
       "      <td>206932.0</td>\n",
       "      <td>566.94</td>\n",
       "      <td>210940.80</td>\n",
       "      <td>577.92</td>\n",
       "      <td>217247.09</td>\n",
       "      <td>595.20</td>\n",
       "      <td>199522.73</td>\n",
       "      <td>545.14</td>\n",
       "      <td>203794.98</td>\n",
       "      <td>558.34</td>\n",
       "      <td>219418.80</td>\n",
       "      <td>601.15</td>\n",
       "    </tr>\n",
       "    <tr>\n",
       "      <th>1</th>\n",
       "      <td>1001</td>\n",
       "      <td>69166.29</td>\n",
       "      <td>189.50</td>\n",
       "      <td>106149.08</td>\n",
       "      <td>290.82</td>\n",
       "      <td>119485.81</td>\n",
       "      <td>326.46</td>\n",
       "      <td>71844.4</td>\n",
       "      <td>196.83</td>\n",
       "      <td>69299.50</td>\n",
       "      <td>189.86</td>\n",
       "      <td>72019.02</td>\n",
       "      <td>197.31</td>\n",
       "      <td>70243.12</td>\n",
       "      <td>200.00</td>\n",
       "      <td>72998.93</td>\n",
       "      <td>200.00</td>\n",
       "      <td>71372.82</td>\n",
       "      <td>195.54</td>\n",
       "    </tr>\n",
       "    <tr>\n",
       "      <th>2</th>\n",
       "      <td>1002</td>\n",
       "      <td>62244.26</td>\n",
       "      <td>170.53</td>\n",
       "      <td>105379.61</td>\n",
       "      <td>288.71</td>\n",
       "      <td>116055.40</td>\n",
       "      <td>317.96</td>\n",
       "      <td>64255.4</td>\n",
       "      <td>176.04</td>\n",
       "      <td>62915.62</td>\n",
       "      <td>172.37</td>\n",
       "      <td>63580.71</td>\n",
       "      <td>174.19</td>\n",
       "      <td>63750.08</td>\n",
       "      <td>173.51</td>\n",
       "      <td>63331.79</td>\n",
       "      <td>173.51</td>\n",
       "      <td>62186.37</td>\n",
       "      <td>170.37</td>\n",
       "    </tr>\n",
       "    <tr>\n",
       "      <th>3</th>\n",
       "      <td>1003</td>\n",
       "      <td>32339.16</td>\n",
       "      <td>88.60</td>\n",
       "      <td>95059.04</td>\n",
       "      <td>260.44</td>\n",
       "      <td>97084.32</td>\n",
       "      <td>265.26</td>\n",
       "      <td>40386.7</td>\n",
       "      <td>110.65</td>\n",
       "      <td>58888.59</td>\n",
       "      <td>161.34</td>\n",
       "      <td>43111.42</td>\n",
       "      <td>118.11</td>\n",
       "      <td>43545.74</td>\n",
       "      <td>131.30</td>\n",
       "      <td>47922.93</td>\n",
       "      <td>131.30</td>\n",
       "      <td>50319.74</td>\n",
       "      <td>137.86</td>\n",
       "    </tr>\n",
       "    <tr>\n",
       "      <th>4</th>\n",
       "      <td>1004</td>\n",
       "      <td>54224.38</td>\n",
       "      <td>148.56</td>\n",
       "      <td>94655.76</td>\n",
       "      <td>259.33</td>\n",
       "      <td>100306.22</td>\n",
       "      <td>274.06</td>\n",
       "      <td>60767.8</td>\n",
       "      <td>166.49</td>\n",
       "      <td>94551.77</td>\n",
       "      <td>259.05</td>\n",
       "      <td>61746.75</td>\n",
       "      <td>169.17</td>\n",
       "      <td>58286.80</td>\n",
       "      <td>167.05</td>\n",
       "      <td>60973.16</td>\n",
       "      <td>167.05</td>\n",
       "      <td>56632.20</td>\n",
       "      <td>155.16</td>\n",
       "    </tr>\n",
       "  </tbody>\n",
       "</table>\n",
       "</div>"
      ],
      "text/plain": [
       "   dcode  garbage53  garbageperday53  garbage54  garbageperday54  garbage55  \\\n",
       "0   1000  189819.45           520.05  122869.76           336.63  133599.00   \n",
       "1   1001   69166.29           189.50  106149.08           290.82  119485.81   \n",
       "2   1002   62244.26           170.53  105379.61           288.71  116055.40   \n",
       "3   1003   32339.16            88.60   95059.04           260.44   97084.32   \n",
       "4   1004   54224.38           148.56   94655.76           259.33  100306.22   \n",
       "\n",
       "   garbageperday55  garbage56  garbageperday56  garbage57  garbageperday57  \\\n",
       "0           365.02   206932.0           566.94  210940.80           577.92   \n",
       "1           326.46    71844.4           196.83   69299.50           189.86   \n",
       "2           317.96    64255.4           176.04   62915.62           172.37   \n",
       "3           265.26    40386.7           110.65   58888.59           161.34   \n",
       "4           274.06    60767.8           166.49   94551.77           259.05   \n",
       "\n",
       "   garbage58  garbageperday58  garbage59  garbageperday59  garbage60  \\\n",
       "0  217247.09           595.20  199522.73           545.14  203794.98   \n",
       "1   72019.02           197.31   70243.12           200.00   72998.93   \n",
       "2   63580.71           174.19   63750.08           173.51   63331.79   \n",
       "3   43111.42           118.11   43545.74           131.30   47922.93   \n",
       "4   61746.75           169.17   58286.80           167.05   60973.16   \n",
       "\n",
       "   garbageperday60  garbage61  garbageperday61  \n",
       "0           558.34  219418.80           601.15  \n",
       "1           200.00   71372.82           195.54  \n",
       "2           173.51   62186.37           170.37  \n",
       "3           131.30   50319.74           137.86  \n",
       "4           167.05   56632.20           155.16  "
      ]
     },
     "execution_count": 142,
     "metadata": {},
     "output_type": "execute_result"
    }
   ],
   "source": [
    "#[:] กันมอง data_3 = data & data = data_3\n",
    "data_3 = data[:]\n",
    "data_3.head()"
   ]
  },
  {
   "cell_type": "code",
   "execution_count": 143,
   "metadata": {},
   "outputs": [
    {
     "name": "stderr",
     "output_type": "stream",
     "text": [
      "<ipython-input-143-6a958ae6499e>:3: SettingWithCopyWarning: \n",
      "A value is trying to be set on a copy of a slice from a DataFrame.\n",
      "Try using .loc[row_indexer,col_indexer] = value instead\n",
      "\n",
      "See the caveats in the documentation: https://pandas.pydata.org/pandas-docs/stable/user_guide/indexing.html#returning-a-view-versus-a-copy\n",
      "  data_3['TotalGarbage'] =data_3['garbage53']+data_3['garbage54']+data_3['garbage55']+data_3['garbage56']+data_3['garbage57']+data_3['garbage58']+data_3['garbage59']+data_3['garbage60']+data_3['garbage61']\n"
     ]
    },
    {
     "data": {
      "text/html": [
       "<div>\n",
       "<style scoped>\n",
       "    .dataframe tbody tr th:only-of-type {\n",
       "        vertical-align: middle;\n",
       "    }\n",
       "\n",
       "    .dataframe tbody tr th {\n",
       "        vertical-align: top;\n",
       "    }\n",
       "\n",
       "    .dataframe thead th {\n",
       "        text-align: right;\n",
       "    }\n",
       "</style>\n",
       "<table border=\"1\" class=\"dataframe\">\n",
       "  <thead>\n",
       "    <tr style=\"text-align: right;\">\n",
       "      <th></th>\n",
       "      <th>dcode</th>\n",
       "      <th>garbage53</th>\n",
       "      <th>garbage54</th>\n",
       "      <th>garbage55</th>\n",
       "      <th>garbage56</th>\n",
       "      <th>garbage57</th>\n",
       "      <th>garbage58</th>\n",
       "      <th>garbage59</th>\n",
       "      <th>garbage60</th>\n",
       "      <th>garbage61</th>\n",
       "      <th>TotalGarbage</th>\n",
       "    </tr>\n",
       "  </thead>\n",
       "  <tbody>\n",
       "    <tr>\n",
       "      <th>0</th>\n",
       "      <td>1000</td>\n",
       "      <td>189819.45</td>\n",
       "      <td>122869.76</td>\n",
       "      <td>133599.00</td>\n",
       "      <td>206932.0</td>\n",
       "      <td>210940.80</td>\n",
       "      <td>217247.09</td>\n",
       "      <td>199522.73</td>\n",
       "      <td>203794.98</td>\n",
       "      <td>219418.80</td>\n",
       "      <td>1704144.61</td>\n",
       "    </tr>\n",
       "    <tr>\n",
       "      <th>1</th>\n",
       "      <td>1001</td>\n",
       "      <td>69166.29</td>\n",
       "      <td>106149.08</td>\n",
       "      <td>119485.81</td>\n",
       "      <td>71844.4</td>\n",
       "      <td>69299.50</td>\n",
       "      <td>72019.02</td>\n",
       "      <td>70243.12</td>\n",
       "      <td>72998.93</td>\n",
       "      <td>71372.82</td>\n",
       "      <td>722578.97</td>\n",
       "    </tr>\n",
       "    <tr>\n",
       "      <th>2</th>\n",
       "      <td>1002</td>\n",
       "      <td>62244.26</td>\n",
       "      <td>105379.61</td>\n",
       "      <td>116055.40</td>\n",
       "      <td>64255.4</td>\n",
       "      <td>62915.62</td>\n",
       "      <td>63580.71</td>\n",
       "      <td>63750.08</td>\n",
       "      <td>63331.79</td>\n",
       "      <td>62186.37</td>\n",
       "      <td>663699.24</td>\n",
       "    </tr>\n",
       "    <tr>\n",
       "      <th>3</th>\n",
       "      <td>1003</td>\n",
       "      <td>32339.16</td>\n",
       "      <td>95059.04</td>\n",
       "      <td>97084.32</td>\n",
       "      <td>40386.7</td>\n",
       "      <td>58888.59</td>\n",
       "      <td>43111.42</td>\n",
       "      <td>43545.74</td>\n",
       "      <td>47922.93</td>\n",
       "      <td>50319.74</td>\n",
       "      <td>508657.64</td>\n",
       "    </tr>\n",
       "    <tr>\n",
       "      <th>4</th>\n",
       "      <td>1004</td>\n",
       "      <td>54224.38</td>\n",
       "      <td>94655.76</td>\n",
       "      <td>100306.22</td>\n",
       "      <td>60767.8</td>\n",
       "      <td>94551.77</td>\n",
       "      <td>61746.75</td>\n",
       "      <td>58286.80</td>\n",
       "      <td>60973.16</td>\n",
       "      <td>56632.20</td>\n",
       "      <td>642144.84</td>\n",
       "    </tr>\n",
       "  </tbody>\n",
       "</table>\n",
       "</div>"
      ],
      "text/plain": [
       "   dcode  garbage53  garbage54  garbage55  garbage56  garbage57  garbage58  \\\n",
       "0   1000  189819.45  122869.76  133599.00   206932.0  210940.80  217247.09   \n",
       "1   1001   69166.29  106149.08  119485.81    71844.4   69299.50   72019.02   \n",
       "2   1002   62244.26  105379.61  116055.40    64255.4   62915.62   63580.71   \n",
       "3   1003   32339.16   95059.04   97084.32    40386.7   58888.59   43111.42   \n",
       "4   1004   54224.38   94655.76  100306.22    60767.8   94551.77   61746.75   \n",
       "\n",
       "   garbage59  garbage60  garbage61  TotalGarbage  \n",
       "0  199522.73  203794.98  219418.80    1704144.61  \n",
       "1   70243.12   72998.93   71372.82     722578.97  \n",
       "2   63750.08   63331.79   62186.37     663699.24  \n",
       "3   43545.74   47922.93   50319.74     508657.64  \n",
       "4   58286.80   60973.16   56632.20     642144.84  "
      ]
     },
     "execution_count": 143,
     "metadata": {},
     "output_type": "execute_result"
    }
   ],
   "source": [
    "# data_3_1 = data[['garbage53','garbage54','garbage55','garbage56','garbage57','garbage58','garbage59','garbage60','garbage61']].sum(axis=1)\n",
    "# data_3_1.tail()\n",
    "data_3['TotalGarbage'] =data_3['garbage53']+data_3['garbage54']+data_3['garbage55']+data_3['garbage56']+data_3['garbage57']+data_3['garbage58']+data_3['garbage59']+data_3['garbage60']+data_3['garbage61']\n",
    "data_3 = data_3[['dcode','garbage53','garbage54','garbage55','garbage56','garbage57','garbage58','garbage59','garbage60','garbage61','TotalGarbage']]\n",
    "data_3.head()"
   ]
  },
  {
   "cell_type": "code",
   "execution_count": 144,
   "metadata": {},
   "outputs": [
    {
     "data": {
      "text/html": [
       "<div>\n",
       "<style scoped>\n",
       "    .dataframe tbody tr th:only-of-type {\n",
       "        vertical-align: middle;\n",
       "    }\n",
       "\n",
       "    .dataframe tbody tr th {\n",
       "        vertical-align: top;\n",
       "    }\n",
       "\n",
       "    .dataframe thead th {\n",
       "        text-align: right;\n",
       "    }\n",
       "</style>\n",
       "<table border=\"1\" class=\"dataframe\">\n",
       "  <thead>\n",
       "    <tr style=\"text-align: right;\">\n",
       "      <th></th>\n",
       "      <th>dcode</th>\n",
       "      <th>TotalGarbage</th>\n",
       "    </tr>\n",
       "  </thead>\n",
       "  <tbody>\n",
       "    <tr>\n",
       "      <th>0</th>\n",
       "      <td>1000</td>\n",
       "      <td>1704144.61</td>\n",
       "    </tr>\n",
       "    <tr>\n",
       "      <th>1</th>\n",
       "      <td>1001</td>\n",
       "      <td>722578.97</td>\n",
       "    </tr>\n",
       "    <tr>\n",
       "      <th>2</th>\n",
       "      <td>1002</td>\n",
       "      <td>663699.24</td>\n",
       "    </tr>\n",
       "    <tr>\n",
       "      <th>3</th>\n",
       "      <td>1003</td>\n",
       "      <td>508657.64</td>\n",
       "    </tr>\n",
       "    <tr>\n",
       "      <th>4</th>\n",
       "      <td>1004</td>\n",
       "      <td>642144.84</td>\n",
       "    </tr>\n",
       "    <tr>\n",
       "      <th>5</th>\n",
       "      <td>1005</td>\n",
       "      <td>909378.49</td>\n",
       "    </tr>\n",
       "    <tr>\n",
       "      <th>6</th>\n",
       "      <td>1006</td>\n",
       "      <td>972315.63</td>\n",
       "    </tr>\n",
       "    <tr>\n",
       "      <th>7</th>\n",
       "      <td>1007</td>\n",
       "      <td>750621.09</td>\n",
       "    </tr>\n",
       "    <tr>\n",
       "      <th>8</th>\n",
       "      <td>1008</td>\n",
       "      <td>513333.09</td>\n",
       "    </tr>\n",
       "    <tr>\n",
       "      <th>9</th>\n",
       "      <td>1009</td>\n",
       "      <td>530018.46</td>\n",
       "    </tr>\n",
       "    <tr>\n",
       "      <th>10</th>\n",
       "      <td>1010</td>\n",
       "      <td>637617.45</td>\n",
       "    </tr>\n",
       "    <tr>\n",
       "      <th>11</th>\n",
       "      <td>1011</td>\n",
       "      <td>807955.08</td>\n",
       "    </tr>\n",
       "    <tr>\n",
       "      <th>12</th>\n",
       "      <td>1012</td>\n",
       "      <td>592841.22</td>\n",
       "    </tr>\n",
       "    <tr>\n",
       "      <th>13</th>\n",
       "      <td>1013</td>\n",
       "      <td>295404.31</td>\n",
       "    </tr>\n",
       "    <tr>\n",
       "      <th>14</th>\n",
       "      <td>1014</td>\n",
       "      <td>554853.73</td>\n",
       "    </tr>\n",
       "    <tr>\n",
       "      <th>15</th>\n",
       "      <td>1015</td>\n",
       "      <td>559750.08</td>\n",
       "    </tr>\n",
       "    <tr>\n",
       "      <th>16</th>\n",
       "      <td>1016</td>\n",
       "      <td>350359.55</td>\n",
       "    </tr>\n",
       "    <tr>\n",
       "      <th>17</th>\n",
       "      <td>1017</td>\n",
       "      <td>644843.24</td>\n",
       "    </tr>\n",
       "    <tr>\n",
       "      <th>18</th>\n",
       "      <td>1018</td>\n",
       "      <td>462746.29</td>\n",
       "    </tr>\n",
       "    <tr>\n",
       "      <th>19</th>\n",
       "      <td>1019</td>\n",
       "      <td>469205.49</td>\n",
       "    </tr>\n",
       "    <tr>\n",
       "      <th>20</th>\n",
       "      <td>1020</td>\n",
       "      <td>613945.22</td>\n",
       "    </tr>\n",
       "    <tr>\n",
       "      <th>21</th>\n",
       "      <td>1021</td>\n",
       "      <td>886385.98</td>\n",
       "    </tr>\n",
       "    <tr>\n",
       "      <th>22</th>\n",
       "      <td>1022</td>\n",
       "      <td>533481.45</td>\n",
       "    </tr>\n",
       "    <tr>\n",
       "      <th>23</th>\n",
       "      <td>1023</td>\n",
       "      <td>559120.62</td>\n",
       "    </tr>\n",
       "    <tr>\n",
       "      <th>24</th>\n",
       "      <td>1024</td>\n",
       "      <td>419913.96</td>\n",
       "    </tr>\n",
       "    <tr>\n",
       "      <th>25</th>\n",
       "      <td>1025</td>\n",
       "      <td>500186.88</td>\n",
       "    </tr>\n",
       "    <tr>\n",
       "      <th>26</th>\n",
       "      <td>1026</td>\n",
       "      <td>808125.08</td>\n",
       "    </tr>\n",
       "    <tr>\n",
       "      <th>27</th>\n",
       "      <td>1027</td>\n",
       "      <td>573613.63</td>\n",
       "    </tr>\n",
       "    <tr>\n",
       "      <th>28</th>\n",
       "      <td>1028</td>\n",
       "      <td>585550.94</td>\n",
       "    </tr>\n",
       "    <tr>\n",
       "      <th>29</th>\n",
       "      <td>1029</td>\n",
       "      <td>535388.72</td>\n",
       "    </tr>\n",
       "    <tr>\n",
       "      <th>30</th>\n",
       "      <td>1030</td>\n",
       "      <td>1097171.30</td>\n",
       "    </tr>\n",
       "    <tr>\n",
       "      <th>31</th>\n",
       "      <td>1031</td>\n",
       "      <td>472768.55</td>\n",
       "    </tr>\n",
       "    <tr>\n",
       "      <th>32</th>\n",
       "      <td>1032</td>\n",
       "      <td>801973.50</td>\n",
       "    </tr>\n",
       "    <tr>\n",
       "      <th>33</th>\n",
       "      <td>1033</td>\n",
       "      <td>928700.35</td>\n",
       "    </tr>\n",
       "    <tr>\n",
       "      <th>34</th>\n",
       "      <td>1034</td>\n",
       "      <td>694336.47</td>\n",
       "    </tr>\n",
       "    <tr>\n",
       "      <th>35</th>\n",
       "      <td>1035</td>\n",
       "      <td>619395.38</td>\n",
       "    </tr>\n",
       "    <tr>\n",
       "      <th>36</th>\n",
       "      <td>1036</td>\n",
       "      <td>572562.62</td>\n",
       "    </tr>\n",
       "    <tr>\n",
       "      <th>37</th>\n",
       "      <td>1037</td>\n",
       "      <td>614152.31</td>\n",
       "    </tr>\n",
       "    <tr>\n",
       "      <th>38</th>\n",
       "      <td>1038</td>\n",
       "      <td>563533.83</td>\n",
       "    </tr>\n",
       "    <tr>\n",
       "      <th>39</th>\n",
       "      <td>1039</td>\n",
       "      <td>804764.51</td>\n",
       "    </tr>\n",
       "    <tr>\n",
       "      <th>40</th>\n",
       "      <td>1040</td>\n",
       "      <td>779494.80</td>\n",
       "    </tr>\n",
       "    <tr>\n",
       "      <th>41</th>\n",
       "      <td>1041</td>\n",
       "      <td>501478.54</td>\n",
       "    </tr>\n",
       "    <tr>\n",
       "      <th>42</th>\n",
       "      <td>1042</td>\n",
       "      <td>600977.95</td>\n",
       "    </tr>\n",
       "    <tr>\n",
       "      <th>43</th>\n",
       "      <td>1043</td>\n",
       "      <td>419075.69</td>\n",
       "    </tr>\n",
       "    <tr>\n",
       "      <th>44</th>\n",
       "      <td>1044</td>\n",
       "      <td>372515.23</td>\n",
       "    </tr>\n",
       "    <tr>\n",
       "      <th>45</th>\n",
       "      <td>1045</td>\n",
       "      <td>630135.69</td>\n",
       "    </tr>\n",
       "    <tr>\n",
       "      <th>46</th>\n",
       "      <td>1046</td>\n",
       "      <td>513630.45</td>\n",
       "    </tr>\n",
       "    <tr>\n",
       "      <th>47</th>\n",
       "      <td>1047</td>\n",
       "      <td>611440.58</td>\n",
       "    </tr>\n",
       "    <tr>\n",
       "      <th>48</th>\n",
       "      <td>1048</td>\n",
       "      <td>319163.34</td>\n",
       "    </tr>\n",
       "    <tr>\n",
       "      <th>49</th>\n",
       "      <td>1049</td>\n",
       "      <td>366005.58</td>\n",
       "    </tr>\n",
       "    <tr>\n",
       "      <th>50</th>\n",
       "      <td>1050</td>\n",
       "      <td>991842.77</td>\n",
       "    </tr>\n",
       "  </tbody>\n",
       "</table>\n",
       "</div>"
      ],
      "text/plain": [
       "    dcode  TotalGarbage\n",
       "0    1000    1704144.61\n",
       "1    1001     722578.97\n",
       "2    1002     663699.24\n",
       "3    1003     508657.64\n",
       "4    1004     642144.84\n",
       "5    1005     909378.49\n",
       "6    1006     972315.63\n",
       "7    1007     750621.09\n",
       "8    1008     513333.09\n",
       "9    1009     530018.46\n",
       "10   1010     637617.45\n",
       "11   1011     807955.08\n",
       "12   1012     592841.22\n",
       "13   1013     295404.31\n",
       "14   1014     554853.73\n",
       "15   1015     559750.08\n",
       "16   1016     350359.55\n",
       "17   1017     644843.24\n",
       "18   1018     462746.29\n",
       "19   1019     469205.49\n",
       "20   1020     613945.22\n",
       "21   1021     886385.98\n",
       "22   1022     533481.45\n",
       "23   1023     559120.62\n",
       "24   1024     419913.96\n",
       "25   1025     500186.88\n",
       "26   1026     808125.08\n",
       "27   1027     573613.63\n",
       "28   1028     585550.94\n",
       "29   1029     535388.72\n",
       "30   1030    1097171.30\n",
       "31   1031     472768.55\n",
       "32   1032     801973.50\n",
       "33   1033     928700.35\n",
       "34   1034     694336.47\n",
       "35   1035     619395.38\n",
       "36   1036     572562.62\n",
       "37   1037     614152.31\n",
       "38   1038     563533.83\n",
       "39   1039     804764.51\n",
       "40   1040     779494.80\n",
       "41   1041     501478.54\n",
       "42   1042     600977.95\n",
       "43   1043     419075.69\n",
       "44   1044     372515.23\n",
       "45   1045     630135.69\n",
       "46   1046     513630.45\n",
       "47   1047     611440.58\n",
       "48   1048     319163.34\n",
       "49   1049     366005.58\n",
       "50   1050     991842.77"
      ]
     },
     "execution_count": 144,
     "metadata": {},
     "output_type": "execute_result"
    }
   ],
   "source": [
    "data_3_1 = data_3.iloc[:, [0,10],]\n",
    "data_3_1"
   ]
  },
  {
   "cell_type": "code",
   "execution_count": 145,
   "metadata": {
    "scrolled": false
   },
   "outputs": [
    {
     "data": {
      "text/plain": [
       "([<matplotlib.axis.XTick at 0x26f0c628f40>,\n",
       "  <matplotlib.axis.XTick at 0x26f0c628f10>,\n",
       "  <matplotlib.axis.XTick at 0x26f0c6befd0>,\n",
       "  <matplotlib.axis.XTick at 0x26f0c6ce700>,\n",
       "  <matplotlib.axis.XTick at 0x26f0c6cec10>,\n",
       "  <matplotlib.axis.XTick at 0x26f0c6ce970>,\n",
       "  <matplotlib.axis.XTick at 0x26f0c6d3160>,\n",
       "  <matplotlib.axis.XTick at 0x26f0c6d3670>,\n",
       "  <matplotlib.axis.XTick at 0x26f0c62cfa0>,\n",
       "  <matplotlib.axis.XTick at 0x26f0c6da2e0>,\n",
       "  <matplotlib.axis.XTick at 0x26f0c6da7f0>,\n",
       "  <matplotlib.axis.XTick at 0x26f0c6dad00>,\n",
       "  <matplotlib.axis.XTick at 0x26f0c6df250>,\n",
       "  <matplotlib.axis.XTick at 0x26f0c6df760>,\n",
       "  <matplotlib.axis.XTick at 0x26f0c6da880>,\n",
       "  <matplotlib.axis.XTick at 0x26f0c6d3ca0>,\n",
       "  <matplotlib.axis.XTick at 0x26f0c6ce8e0>,\n",
       "  <matplotlib.axis.XTick at 0x26f0c6dfc70>,\n",
       "  <matplotlib.axis.XTick at 0x26f0c6e51c0>,\n",
       "  <matplotlib.axis.XTick at 0x26f0c6e56d0>,\n",
       "  <matplotlib.axis.XTick at 0x26f0c6e5be0>,\n",
       "  <matplotlib.axis.XTick at 0x26f0c6ed130>,\n",
       "  <matplotlib.axis.XTick at 0x26f0c6ed640>,\n",
       "  <matplotlib.axis.XTick at 0x26f0c6edb50>,\n",
       "  <matplotlib.axis.XTick at 0x26f0c6e58b0>,\n",
       "  <matplotlib.axis.XTick at 0x26f0c6df460>,\n",
       "  <matplotlib.axis.XTick at 0x26f0c6edeb0>,\n",
       "  <matplotlib.axis.XTick at 0x26f0c6f30a0>,\n",
       "  <matplotlib.axis.XTick at 0x26f0c6f35b0>,\n",
       "  <matplotlib.axis.XTick at 0x26f0c6f3ac0>,\n",
       "  <matplotlib.axis.XTick at 0x26f0c6f3fd0>,\n",
       "  <matplotlib.axis.XTick at 0x26f0c6f8520>,\n",
       "  <matplotlib.axis.XTick at 0x26f0c6f8a30>,\n",
       "  <matplotlib.axis.XTick at 0x26f0c6f8f40>,\n",
       "  <matplotlib.axis.XTick at 0x26f0c6f8160>,\n",
       "  <matplotlib.axis.XTick at 0x26f0c6f31f0>,\n",
       "  <matplotlib.axis.XTick at 0x26f0c6ed340>,\n",
       "  <matplotlib.axis.XTick at 0x26f0c6ced60>,\n",
       "  <matplotlib.axis.XTick at 0x26f0c6ff490>,\n",
       "  <matplotlib.axis.XTick at 0x26f0c6ff9a0>,\n",
       "  <matplotlib.axis.XTick at 0x26f0c6ffeb0>,\n",
       "  <matplotlib.axis.XTick at 0x26f0c705400>,\n",
       "  <matplotlib.axis.XTick at 0x26f0c705910>,\n",
       "  <matplotlib.axis.XTick at 0x26f0c705e20>,\n",
       "  <matplotlib.axis.XTick at 0x26f0c7054f0>,\n",
       "  <matplotlib.axis.XTick at 0x26f0c6ff580>,\n",
       "  <matplotlib.axis.XTick at 0x26f0c6f3280>,\n",
       "  <matplotlib.axis.XTick at 0x26f0c70c2e0>,\n",
       "  <matplotlib.axis.XTick at 0x26f0c70c7f0>,\n",
       "  <matplotlib.axis.XTick at 0x26f0c70cd00>,\n",
       "  <matplotlib.axis.XTick at 0x26f0c714250>],\n",
       " [Text(0, 0, '1000'),\n",
       "  Text(0, 0, '1001'),\n",
       "  Text(0, 0, '1002'),\n",
       "  Text(0, 0, '1003'),\n",
       "  Text(0, 0, '1004'),\n",
       "  Text(0, 0, '1005'),\n",
       "  Text(0, 0, '1006'),\n",
       "  Text(0, 0, '1007'),\n",
       "  Text(0, 0, '1008'),\n",
       "  Text(0, 0, '1009'),\n",
       "  Text(0, 0, '1010'),\n",
       "  Text(0, 0, '1011'),\n",
       "  Text(0, 0, '1012'),\n",
       "  Text(0, 0, '1013'),\n",
       "  Text(0, 0, '1014'),\n",
       "  Text(0, 0, '1015'),\n",
       "  Text(0, 0, '1016'),\n",
       "  Text(0, 0, '1017'),\n",
       "  Text(0, 0, '1018'),\n",
       "  Text(0, 0, '1019'),\n",
       "  Text(0, 0, '1020'),\n",
       "  Text(0, 0, '1021'),\n",
       "  Text(0, 0, '1022'),\n",
       "  Text(0, 0, '1023'),\n",
       "  Text(0, 0, '1024'),\n",
       "  Text(0, 0, '1025'),\n",
       "  Text(0, 0, '1026'),\n",
       "  Text(0, 0, '1027'),\n",
       "  Text(0, 0, '1028'),\n",
       "  Text(0, 0, '1029'),\n",
       "  Text(0, 0, '1030'),\n",
       "  Text(0, 0, '1031'),\n",
       "  Text(0, 0, '1032'),\n",
       "  Text(0, 0, '1033'),\n",
       "  Text(0, 0, '1034'),\n",
       "  Text(0, 0, '1035'),\n",
       "  Text(0, 0, '1036'),\n",
       "  Text(0, 0, '1037'),\n",
       "  Text(0, 0, '1038'),\n",
       "  Text(0, 0, '1039'),\n",
       "  Text(0, 0, '1040'),\n",
       "  Text(0, 0, '1041'),\n",
       "  Text(0, 0, '1042'),\n",
       "  Text(0, 0, '1043'),\n",
       "  Text(0, 0, '1044'),\n",
       "  Text(0, 0, '1045'),\n",
       "  Text(0, 0, '1046'),\n",
       "  Text(0, 0, '1047'),\n",
       "  Text(0, 0, '1048'),\n",
       "  Text(0, 0, '1049'),\n",
       "  Text(0, 0, '1050')])"
      ]
     },
     "execution_count": 145,
     "metadata": {},
     "output_type": "execute_result"
    },
    {
     "data": {
      "image/png": "[encoded data removed]",
      "text/plain": [
       "<Figure size 1080x576 with 1 Axes>"
      ]
     },
     "metadata": {
      "needs_background": "light"
     },
     "output_type": "display_data"
    }
   ],
   "source": [
    "data_3_2 = data_3_1.iloc[:, [1],]\n",
    "data_3_2.plot.bar( alpha=1,color='#BC8F8F',figsize=(15,8))\n",
    "plt.legend(title = 'ปริมาณขยะมูลฝอยรวมกันทุกปี' ,fontsize=14,title_fontsize=14)\n",
    "plt.grid(color='#95a5a6', linestyle='--', linewidth=2, axis='y', alpha=1)\n",
    "plt.title('ปริมาณขยะมูลรวมกันของปี 2553-2561',fontsize=20)\n",
    "plt.xlabel('เขต',fontsize=20)\n",
    "plt.ylabel('ปริมาณขยะ',fontsize=20)\n",
    "plt.xticks(np.arange(51), ['1000','1001','1002','1003','1004','1005','1006','1007','1008','1009','1010','1011','1012','1013','1014','1015','1016','1017','1018','1019','1020','1021','1022','1023','1024','1025','1026','1027','1028','1029','1030','1031','1032','1033','1034','1035','1036','1037','1038','1039','1040','1041','1042','1043','1044','1045','1046','1047','1048','1049','1050'])"
   ]
  },
  {
   "cell_type": "markdown",
   "metadata": {},
   "source": [
    "<h2>ดังนั้นเขตที่มีปริมาณขยะน้อยที่สุดคือ เขต 1013 มีปริมาณขยะ\n",
    "</h2>"
   ]
  },
  {
   "cell_type": "code",
   "execution_count": 146,
   "metadata": {},
   "outputs": [
    {
     "data": {
      "text/plain": [
       "295404.31"
      ]
     },
     "execution_count": 146,
     "metadata": {},
     "output_type": "execute_result"
    }
   ],
   "source": [
    "data_3_1['TotalGarbage'].min()"
   ]
  }
 ],
 "metadata": {
  "colab": {
   "collapsed_sections": [],
   "name": "G12.ipynb",
   "provenance": []
  },
  "kernelspec": {
   "display_name": "Python 3",
   "language": "python",
   "name": "python3"
  },
  "language_info": {
   "codemirror_mode": {
    "name": "ipython",
    "version": 3
   },
   "file_extension": ".py",
   "mimetype": "text/x-python",
   "name": "python",
   "nbconvert_exporter": "python",
   "pygments_lexer": "ipython3",
   "version": "3.8.3"
  }
 },
 "nbformat": 4,
 "nbformat_minor": 1
}
